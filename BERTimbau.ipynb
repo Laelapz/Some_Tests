{
  "nbformat": 4,
  "nbformat_minor": 0,
  "metadata": {
    "colab": {
      "name": "BERTimbau",
      "provenance": [],
      "authorship_tag": "ABX9TyPh5Bb50vX7knoLxMudgQuY",
      "include_colab_link": true
    },
    "kernelspec": {
      "name": "python3",
      "display_name": "Python 3"
    },
    "language_info": {
      "name": "python"
    },
    "widgets": {
      "application/vnd.jupyter.widget-state+json": {
        "03b15eeb7ef94129b4af2e116bd34b99": {
          "model_module": "@jupyter-widgets/controls",
          "model_name": "HBoxModel",
          "state": {
            "_view_name": "HBoxView",
            "_dom_classes": [],
            "_model_name": "HBoxModel",
            "_view_module": "@jupyter-widgets/controls",
            "_model_module_version": "1.5.0",
            "_view_count": null,
            "_view_module_version": "1.5.0",
            "box_style": "",
            "layout": "IPY_MODEL_c7433438bb294261ba880569f6480fb9",
            "_model_module": "@jupyter-widgets/controls",
            "children": [
              "IPY_MODEL_9c960465546d415689339dfc7b5752fc",
              "IPY_MODEL_b89f979ca5fa459f8e8fa5fa7a99aa0d"
            ]
          }
        },
        "c7433438bb294261ba880569f6480fb9": {
          "model_module": "@jupyter-widgets/base",
          "model_name": "LayoutModel",
          "state": {
            "_view_name": "LayoutView",
            "grid_template_rows": null,
            "right": null,
            "justify_content": null,
            "_view_module": "@jupyter-widgets/base",
            "overflow": null,
            "_model_module_version": "1.2.0",
            "_view_count": null,
            "flex_flow": null,
            "width": null,
            "min_width": null,
            "border": null,
            "align_items": null,
            "bottom": null,
            "_model_module": "@jupyter-widgets/base",
            "top": null,
            "grid_column": null,
            "overflow_y": null,
            "overflow_x": null,
            "grid_auto_flow": null,
            "grid_area": null,
            "grid_template_columns": null,
            "flex": null,
            "_model_name": "LayoutModel",
            "justify_items": null,
            "grid_row": null,
            "max_height": null,
            "align_content": null,
            "visibility": null,
            "align_self": null,
            "height": null,
            "min_height": null,
            "padding": null,
            "grid_auto_rows": null,
            "grid_gap": null,
            "max_width": null,
            "order": null,
            "_view_module_version": "1.2.0",
            "grid_template_areas": null,
            "object_position": null,
            "object_fit": null,
            "grid_auto_columns": null,
            "margin": null,
            "display": null,
            "left": null
          }
        },
        "9c960465546d415689339dfc7b5752fc": {
          "model_module": "@jupyter-widgets/controls",
          "model_name": "FloatProgressModel",
          "state": {
            "_view_name": "ProgressView",
            "style": "IPY_MODEL_1e6ec736b8a743bdbacb94f796b23846",
            "_dom_classes": [],
            "description": "Downloading: 100%",
            "_model_name": "FloatProgressModel",
            "bar_style": "success",
            "max": 647,
            "_view_module": "@jupyter-widgets/controls",
            "_model_module_version": "1.5.0",
            "value": 647,
            "_view_count": null,
            "_view_module_version": "1.5.0",
            "orientation": "horizontal",
            "min": 0,
            "description_tooltip": null,
            "_model_module": "@jupyter-widgets/controls",
            "layout": "IPY_MODEL_8c32176da391405689a48036d971b328"
          }
        },
        "b89f979ca5fa459f8e8fa5fa7a99aa0d": {
          "model_module": "@jupyter-widgets/controls",
          "model_name": "HTMLModel",
          "state": {
            "_view_name": "HTMLView",
            "style": "IPY_MODEL_15354ef2277841eaaea979859b5a0b10",
            "_dom_classes": [],
            "description": "",
            "_model_name": "HTMLModel",
            "placeholder": "​",
            "_view_module": "@jupyter-widgets/controls",
            "_model_module_version": "1.5.0",
            "value": " 647/647 [00:18&lt;00:00, 34.8B/s]",
            "_view_count": null,
            "_view_module_version": "1.5.0",
            "description_tooltip": null,
            "_model_module": "@jupyter-widgets/controls",
            "layout": "IPY_MODEL_d6d0b8cdf7d64e1ba1cae0bc561d2fb0"
          }
        },
        "1e6ec736b8a743bdbacb94f796b23846": {
          "model_module": "@jupyter-widgets/controls",
          "model_name": "ProgressStyleModel",
          "state": {
            "_view_name": "StyleView",
            "_model_name": "ProgressStyleModel",
            "description_width": "initial",
            "_view_module": "@jupyter-widgets/base",
            "_model_module_version": "1.5.0",
            "_view_count": null,
            "_view_module_version": "1.2.0",
            "bar_color": null,
            "_model_module": "@jupyter-widgets/controls"
          }
        },
        "8c32176da391405689a48036d971b328": {
          "model_module": "@jupyter-widgets/base",
          "model_name": "LayoutModel",
          "state": {
            "_view_name": "LayoutView",
            "grid_template_rows": null,
            "right": null,
            "justify_content": null,
            "_view_module": "@jupyter-widgets/base",
            "overflow": null,
            "_model_module_version": "1.2.0",
            "_view_count": null,
            "flex_flow": null,
            "width": null,
            "min_width": null,
            "border": null,
            "align_items": null,
            "bottom": null,
            "_model_module": "@jupyter-widgets/base",
            "top": null,
            "grid_column": null,
            "overflow_y": null,
            "overflow_x": null,
            "grid_auto_flow": null,
            "grid_area": null,
            "grid_template_columns": null,
            "flex": null,
            "_model_name": "LayoutModel",
            "justify_items": null,
            "grid_row": null,
            "max_height": null,
            "align_content": null,
            "visibility": null,
            "align_self": null,
            "height": null,
            "min_height": null,
            "padding": null,
            "grid_auto_rows": null,
            "grid_gap": null,
            "max_width": null,
            "order": null,
            "_view_module_version": "1.2.0",
            "grid_template_areas": null,
            "object_position": null,
            "object_fit": null,
            "grid_auto_columns": null,
            "margin": null,
            "display": null,
            "left": null
          }
        },
        "15354ef2277841eaaea979859b5a0b10": {
          "model_module": "@jupyter-widgets/controls",
          "model_name": "DescriptionStyleModel",
          "state": {
            "_view_name": "StyleView",
            "_model_name": "DescriptionStyleModel",
            "description_width": "",
            "_view_module": "@jupyter-widgets/base",
            "_model_module_version": "1.5.0",
            "_view_count": null,
            "_view_module_version": "1.2.0",
            "_model_module": "@jupyter-widgets/controls"
          }
        },
        "d6d0b8cdf7d64e1ba1cae0bc561d2fb0": {
          "model_module": "@jupyter-widgets/base",
          "model_name": "LayoutModel",
          "state": {
            "_view_name": "LayoutView",
            "grid_template_rows": null,
            "right": null,
            "justify_content": null,
            "_view_module": "@jupyter-widgets/base",
            "overflow": null,
            "_model_module_version": "1.2.0",
            "_view_count": null,
            "flex_flow": null,
            "width": null,
            "min_width": null,
            "border": null,
            "align_items": null,
            "bottom": null,
            "_model_module": "@jupyter-widgets/base",
            "top": null,
            "grid_column": null,
            "overflow_y": null,
            "overflow_x": null,
            "grid_auto_flow": null,
            "grid_area": null,
            "grid_template_columns": null,
            "flex": null,
            "_model_name": "LayoutModel",
            "justify_items": null,
            "grid_row": null,
            "max_height": null,
            "align_content": null,
            "visibility": null,
            "align_self": null,
            "height": null,
            "min_height": null,
            "padding": null,
            "grid_auto_rows": null,
            "grid_gap": null,
            "max_width": null,
            "order": null,
            "_view_module_version": "1.2.0",
            "grid_template_areas": null,
            "object_position": null,
            "object_fit": null,
            "grid_auto_columns": null,
            "margin": null,
            "display": null,
            "left": null
          }
        },
        "044f791673d041ae8826aff0b521f410": {
          "model_module": "@jupyter-widgets/controls",
          "model_name": "HBoxModel",
          "state": {
            "_view_name": "HBoxView",
            "_dom_classes": [],
            "_model_name": "HBoxModel",
            "_view_module": "@jupyter-widgets/controls",
            "_model_module_version": "1.5.0",
            "_view_count": null,
            "_view_module_version": "1.5.0",
            "box_style": "",
            "layout": "IPY_MODEL_2f247cd0c4f549779f61510f514a6e17",
            "_model_module": "@jupyter-widgets/controls",
            "children": [
              "IPY_MODEL_27daffd8b8bd4a8b8d5e6b66221d31bd",
              "IPY_MODEL_187516b846ef4e299cc14c1e652a88a7"
            ]
          }
        },
        "2f247cd0c4f549779f61510f514a6e17": {
          "model_module": "@jupyter-widgets/base",
          "model_name": "LayoutModel",
          "state": {
            "_view_name": "LayoutView",
            "grid_template_rows": null,
            "right": null,
            "justify_content": null,
            "_view_module": "@jupyter-widgets/base",
            "overflow": null,
            "_model_module_version": "1.2.0",
            "_view_count": null,
            "flex_flow": null,
            "width": null,
            "min_width": null,
            "border": null,
            "align_items": null,
            "bottom": null,
            "_model_module": "@jupyter-widgets/base",
            "top": null,
            "grid_column": null,
            "overflow_y": null,
            "overflow_x": null,
            "grid_auto_flow": null,
            "grid_area": null,
            "grid_template_columns": null,
            "flex": null,
            "_model_name": "LayoutModel",
            "justify_items": null,
            "grid_row": null,
            "max_height": null,
            "align_content": null,
            "visibility": null,
            "align_self": null,
            "height": null,
            "min_height": null,
            "padding": null,
            "grid_auto_rows": null,
            "grid_gap": null,
            "max_width": null,
            "order": null,
            "_view_module_version": "1.2.0",
            "grid_template_areas": null,
            "object_position": null,
            "object_fit": null,
            "grid_auto_columns": null,
            "margin": null,
            "display": null,
            "left": null
          }
        },
        "27daffd8b8bd4a8b8d5e6b66221d31bd": {
          "model_module": "@jupyter-widgets/controls",
          "model_name": "FloatProgressModel",
          "state": {
            "_view_name": "ProgressView",
            "style": "IPY_MODEL_ef831c5a2dea46b2a0d7141593fae0f9",
            "_dom_classes": [],
            "description": "Downloading: 100%",
            "_model_name": "FloatProgressModel",
            "bar_style": "success",
            "max": 438235074,
            "_view_module": "@jupyter-widgets/controls",
            "_model_module_version": "1.5.0",
            "value": 438235074,
            "_view_count": null,
            "_view_module_version": "1.5.0",
            "orientation": "horizontal",
            "min": 0,
            "description_tooltip": null,
            "_model_module": "@jupyter-widgets/controls",
            "layout": "IPY_MODEL_9b4be76112824867aa6297dcb1a0102b"
          }
        },
        "187516b846ef4e299cc14c1e652a88a7": {
          "model_module": "@jupyter-widgets/controls",
          "model_name": "HTMLModel",
          "state": {
            "_view_name": "HTMLView",
            "style": "IPY_MODEL_244a8e1ef2ba498d9d86822c172e7dd4",
            "_dom_classes": [],
            "description": "",
            "_model_name": "HTMLModel",
            "placeholder": "​",
            "_view_module": "@jupyter-widgets/controls",
            "_model_module_version": "1.5.0",
            "value": " 438M/438M [00:17&lt;00:00, 24.8MB/s]",
            "_view_count": null,
            "_view_module_version": "1.5.0",
            "description_tooltip": null,
            "_model_module": "@jupyter-widgets/controls",
            "layout": "IPY_MODEL_44c12cd89f844fada779eb988d1dad9a"
          }
        },
        "ef831c5a2dea46b2a0d7141593fae0f9": {
          "model_module": "@jupyter-widgets/controls",
          "model_name": "ProgressStyleModel",
          "state": {
            "_view_name": "StyleView",
            "_model_name": "ProgressStyleModel",
            "description_width": "initial",
            "_view_module": "@jupyter-widgets/base",
            "_model_module_version": "1.5.0",
            "_view_count": null,
            "_view_module_version": "1.2.0",
            "bar_color": null,
            "_model_module": "@jupyter-widgets/controls"
          }
        },
        "9b4be76112824867aa6297dcb1a0102b": {
          "model_module": "@jupyter-widgets/base",
          "model_name": "LayoutModel",
          "state": {
            "_view_name": "LayoutView",
            "grid_template_rows": null,
            "right": null,
            "justify_content": null,
            "_view_module": "@jupyter-widgets/base",
            "overflow": null,
            "_model_module_version": "1.2.0",
            "_view_count": null,
            "flex_flow": null,
            "width": null,
            "min_width": null,
            "border": null,
            "align_items": null,
            "bottom": null,
            "_model_module": "@jupyter-widgets/base",
            "top": null,
            "grid_column": null,
            "overflow_y": null,
            "overflow_x": null,
            "grid_auto_flow": null,
            "grid_area": null,
            "grid_template_columns": null,
            "flex": null,
            "_model_name": "LayoutModel",
            "justify_items": null,
            "grid_row": null,
            "max_height": null,
            "align_content": null,
            "visibility": null,
            "align_self": null,
            "height": null,
            "min_height": null,
            "padding": null,
            "grid_auto_rows": null,
            "grid_gap": null,
            "max_width": null,
            "order": null,
            "_view_module_version": "1.2.0",
            "grid_template_areas": null,
            "object_position": null,
            "object_fit": null,
            "grid_auto_columns": null,
            "margin": null,
            "display": null,
            "left": null
          }
        },
        "244a8e1ef2ba498d9d86822c172e7dd4": {
          "model_module": "@jupyter-widgets/controls",
          "model_name": "DescriptionStyleModel",
          "state": {
            "_view_name": "StyleView",
            "_model_name": "DescriptionStyleModel",
            "description_width": "",
            "_view_module": "@jupyter-widgets/base",
            "_model_module_version": "1.5.0",
            "_view_count": null,
            "_view_module_version": "1.2.0",
            "_model_module": "@jupyter-widgets/controls"
          }
        },
        "44c12cd89f844fada779eb988d1dad9a": {
          "model_module": "@jupyter-widgets/base",
          "model_name": "LayoutModel",
          "state": {
            "_view_name": "LayoutView",
            "grid_template_rows": null,
            "right": null,
            "justify_content": null,
            "_view_module": "@jupyter-widgets/base",
            "overflow": null,
            "_model_module_version": "1.2.0",
            "_view_count": null,
            "flex_flow": null,
            "width": null,
            "min_width": null,
            "border": null,
            "align_items": null,
            "bottom": null,
            "_model_module": "@jupyter-widgets/base",
            "top": null,
            "grid_column": null,
            "overflow_y": null,
            "overflow_x": null,
            "grid_auto_flow": null,
            "grid_area": null,
            "grid_template_columns": null,
            "flex": null,
            "_model_name": "LayoutModel",
            "justify_items": null,
            "grid_row": null,
            "max_height": null,
            "align_content": null,
            "visibility": null,
            "align_self": null,
            "height": null,
            "min_height": null,
            "padding": null,
            "grid_auto_rows": null,
            "grid_gap": null,
            "max_width": null,
            "order": null,
            "_view_module_version": "1.2.0",
            "grid_template_areas": null,
            "object_position": null,
            "object_fit": null,
            "grid_auto_columns": null,
            "margin": null,
            "display": null,
            "left": null
          }
        },
        "95a41c56e9f74cbc9557c2a24238542c": {
          "model_module": "@jupyter-widgets/controls",
          "model_name": "HBoxModel",
          "state": {
            "_view_name": "HBoxView",
            "_dom_classes": [],
            "_model_name": "HBoxModel",
            "_view_module": "@jupyter-widgets/controls",
            "_model_module_version": "1.5.0",
            "_view_count": null,
            "_view_module_version": "1.5.0",
            "box_style": "",
            "layout": "IPY_MODEL_5391e98be54c47b0bbe012a6c0c847f4",
            "_model_module": "@jupyter-widgets/controls",
            "children": [
              "IPY_MODEL_9fa1e579b73f41ca944fcad63f3d7755",
              "IPY_MODEL_0624e9f866154f9aac50d022ab0ed4c0"
            ]
          }
        },
        "5391e98be54c47b0bbe012a6c0c847f4": {
          "model_module": "@jupyter-widgets/base",
          "model_name": "LayoutModel",
          "state": {
            "_view_name": "LayoutView",
            "grid_template_rows": null,
            "right": null,
            "justify_content": null,
            "_view_module": "@jupyter-widgets/base",
            "overflow": null,
            "_model_module_version": "1.2.0",
            "_view_count": null,
            "flex_flow": null,
            "width": null,
            "min_width": null,
            "border": null,
            "align_items": null,
            "bottom": null,
            "_model_module": "@jupyter-widgets/base",
            "top": null,
            "grid_column": null,
            "overflow_y": null,
            "overflow_x": null,
            "grid_auto_flow": null,
            "grid_area": null,
            "grid_template_columns": null,
            "flex": null,
            "_model_name": "LayoutModel",
            "justify_items": null,
            "grid_row": null,
            "max_height": null,
            "align_content": null,
            "visibility": null,
            "align_self": null,
            "height": null,
            "min_height": null,
            "padding": null,
            "grid_auto_rows": null,
            "grid_gap": null,
            "max_width": null,
            "order": null,
            "_view_module_version": "1.2.0",
            "grid_template_areas": null,
            "object_position": null,
            "object_fit": null,
            "grid_auto_columns": null,
            "margin": null,
            "display": null,
            "left": null
          }
        },
        "9fa1e579b73f41ca944fcad63f3d7755": {
          "model_module": "@jupyter-widgets/controls",
          "model_name": "FloatProgressModel",
          "state": {
            "_view_name": "ProgressView",
            "style": "IPY_MODEL_d6ae7091a21c4bf58b02395f71cfbdc9",
            "_dom_classes": [],
            "description": "Downloading: 100%",
            "_model_name": "FloatProgressModel",
            "bar_style": "success",
            "max": 209528,
            "_view_module": "@jupyter-widgets/controls",
            "_model_module_version": "1.5.0",
            "value": 209528,
            "_view_count": null,
            "_view_module_version": "1.5.0",
            "orientation": "horizontal",
            "min": 0,
            "description_tooltip": null,
            "_model_module": "@jupyter-widgets/controls",
            "layout": "IPY_MODEL_f4840ae87cf0453b8ad12c0509134c01"
          }
        },
        "0624e9f866154f9aac50d022ab0ed4c0": {
          "model_module": "@jupyter-widgets/controls",
          "model_name": "HTMLModel",
          "state": {
            "_view_name": "HTMLView",
            "style": "IPY_MODEL_23dbe1d86f774ea8905ad3fe55f7a85b",
            "_dom_classes": [],
            "description": "",
            "_model_name": "HTMLModel",
            "placeholder": "​",
            "_view_module": "@jupyter-widgets/controls",
            "_model_module_version": "1.5.0",
            "value": " 210k/210k [00:00&lt;00:00, 253kB/s]",
            "_view_count": null,
            "_view_module_version": "1.5.0",
            "description_tooltip": null,
            "_model_module": "@jupyter-widgets/controls",
            "layout": "IPY_MODEL_910890464288479f86ff5a8309eeb18a"
          }
        },
        "d6ae7091a21c4bf58b02395f71cfbdc9": {
          "model_module": "@jupyter-widgets/controls",
          "model_name": "ProgressStyleModel",
          "state": {
            "_view_name": "StyleView",
            "_model_name": "ProgressStyleModel",
            "description_width": "initial",
            "_view_module": "@jupyter-widgets/base",
            "_model_module_version": "1.5.0",
            "_view_count": null,
            "_view_module_version": "1.2.0",
            "bar_color": null,
            "_model_module": "@jupyter-widgets/controls"
          }
        },
        "f4840ae87cf0453b8ad12c0509134c01": {
          "model_module": "@jupyter-widgets/base",
          "model_name": "LayoutModel",
          "state": {
            "_view_name": "LayoutView",
            "grid_template_rows": null,
            "right": null,
            "justify_content": null,
            "_view_module": "@jupyter-widgets/base",
            "overflow": null,
            "_model_module_version": "1.2.0",
            "_view_count": null,
            "flex_flow": null,
            "width": null,
            "min_width": null,
            "border": null,
            "align_items": null,
            "bottom": null,
            "_model_module": "@jupyter-widgets/base",
            "top": null,
            "grid_column": null,
            "overflow_y": null,
            "overflow_x": null,
            "grid_auto_flow": null,
            "grid_area": null,
            "grid_template_columns": null,
            "flex": null,
            "_model_name": "LayoutModel",
            "justify_items": null,
            "grid_row": null,
            "max_height": null,
            "align_content": null,
            "visibility": null,
            "align_self": null,
            "height": null,
            "min_height": null,
            "padding": null,
            "grid_auto_rows": null,
            "grid_gap": null,
            "max_width": null,
            "order": null,
            "_view_module_version": "1.2.0",
            "grid_template_areas": null,
            "object_position": null,
            "object_fit": null,
            "grid_auto_columns": null,
            "margin": null,
            "display": null,
            "left": null
          }
        },
        "23dbe1d86f774ea8905ad3fe55f7a85b": {
          "model_module": "@jupyter-widgets/controls",
          "model_name": "DescriptionStyleModel",
          "state": {
            "_view_name": "StyleView",
            "_model_name": "DescriptionStyleModel",
            "description_width": "",
            "_view_module": "@jupyter-widgets/base",
            "_model_module_version": "1.5.0",
            "_view_count": null,
            "_view_module_version": "1.2.0",
            "_model_module": "@jupyter-widgets/controls"
          }
        },
        "910890464288479f86ff5a8309eeb18a": {
          "model_module": "@jupyter-widgets/base",
          "model_name": "LayoutModel",
          "state": {
            "_view_name": "LayoutView",
            "grid_template_rows": null,
            "right": null,
            "justify_content": null,
            "_view_module": "@jupyter-widgets/base",
            "overflow": null,
            "_model_module_version": "1.2.0",
            "_view_count": null,
            "flex_flow": null,
            "width": null,
            "min_width": null,
            "border": null,
            "align_items": null,
            "bottom": null,
            "_model_module": "@jupyter-widgets/base",
            "top": null,
            "grid_column": null,
            "overflow_y": null,
            "overflow_x": null,
            "grid_auto_flow": null,
            "grid_area": null,
            "grid_template_columns": null,
            "flex": null,
            "_model_name": "LayoutModel",
            "justify_items": null,
            "grid_row": null,
            "max_height": null,
            "align_content": null,
            "visibility": null,
            "align_self": null,
            "height": null,
            "min_height": null,
            "padding": null,
            "grid_auto_rows": null,
            "grid_gap": null,
            "max_width": null,
            "order": null,
            "_view_module_version": "1.2.0",
            "grid_template_areas": null,
            "object_position": null,
            "object_fit": null,
            "grid_auto_columns": null,
            "margin": null,
            "display": null,
            "left": null
          }
        },
        "f4230323bb504d9dbdff32cbf031f10c": {
          "model_module": "@jupyter-widgets/controls",
          "model_name": "HBoxModel",
          "state": {
            "_view_name": "HBoxView",
            "_dom_classes": [],
            "_model_name": "HBoxModel",
            "_view_module": "@jupyter-widgets/controls",
            "_model_module_version": "1.5.0",
            "_view_count": null,
            "_view_module_version": "1.5.0",
            "box_style": "",
            "layout": "IPY_MODEL_87054fa5af28449fa621b691dc5d007a",
            "_model_module": "@jupyter-widgets/controls",
            "children": [
              "IPY_MODEL_cfc01c6755434dc78f1bfffa8d17575c",
              "IPY_MODEL_76d5394f686944279f219275a39ee416"
            ]
          }
        },
        "87054fa5af28449fa621b691dc5d007a": {
          "model_module": "@jupyter-widgets/base",
          "model_name": "LayoutModel",
          "state": {
            "_view_name": "LayoutView",
            "grid_template_rows": null,
            "right": null,
            "justify_content": null,
            "_view_module": "@jupyter-widgets/base",
            "overflow": null,
            "_model_module_version": "1.2.0",
            "_view_count": null,
            "flex_flow": null,
            "width": null,
            "min_width": null,
            "border": null,
            "align_items": null,
            "bottom": null,
            "_model_module": "@jupyter-widgets/base",
            "top": null,
            "grid_column": null,
            "overflow_y": null,
            "overflow_x": null,
            "grid_auto_flow": null,
            "grid_area": null,
            "grid_template_columns": null,
            "flex": null,
            "_model_name": "LayoutModel",
            "justify_items": null,
            "grid_row": null,
            "max_height": null,
            "align_content": null,
            "visibility": null,
            "align_self": null,
            "height": null,
            "min_height": null,
            "padding": null,
            "grid_auto_rows": null,
            "grid_gap": null,
            "max_width": null,
            "order": null,
            "_view_module_version": "1.2.0",
            "grid_template_areas": null,
            "object_position": null,
            "object_fit": null,
            "grid_auto_columns": null,
            "margin": null,
            "display": null,
            "left": null
          }
        },
        "cfc01c6755434dc78f1bfffa8d17575c": {
          "model_module": "@jupyter-widgets/controls",
          "model_name": "FloatProgressModel",
          "state": {
            "_view_name": "ProgressView",
            "style": "IPY_MODEL_4807b4c5c841413191eea00e4a678fb8",
            "_dom_classes": [],
            "description": "Downloading: 100%",
            "_model_name": "FloatProgressModel",
            "bar_style": "success",
            "max": 2,
            "_view_module": "@jupyter-widgets/controls",
            "_model_module_version": "1.5.0",
            "value": 2,
            "_view_count": null,
            "_view_module_version": "1.5.0",
            "orientation": "horizontal",
            "min": 0,
            "description_tooltip": null,
            "_model_module": "@jupyter-widgets/controls",
            "layout": "IPY_MODEL_4f55bb9daa354292b65cc7210eb1984a"
          }
        },
        "76d5394f686944279f219275a39ee416": {
          "model_module": "@jupyter-widgets/controls",
          "model_name": "HTMLModel",
          "state": {
            "_view_name": "HTMLView",
            "style": "IPY_MODEL_3e6d8b57f782482daa5a7096d2335bd1",
            "_dom_classes": [],
            "description": "",
            "_model_name": "HTMLModel",
            "placeholder": "​",
            "_view_module": "@jupyter-widgets/controls",
            "_model_module_version": "1.5.0",
            "value": " 2.00/2.00 [00:00&lt;00:00, 7.77B/s]",
            "_view_count": null,
            "_view_module_version": "1.5.0",
            "description_tooltip": null,
            "_model_module": "@jupyter-widgets/controls",
            "layout": "IPY_MODEL_6776e4ea581c466a9b2f6b2ab3a39bed"
          }
        },
        "4807b4c5c841413191eea00e4a678fb8": {
          "model_module": "@jupyter-widgets/controls",
          "model_name": "ProgressStyleModel",
          "state": {
            "_view_name": "StyleView",
            "_model_name": "ProgressStyleModel",
            "description_width": "initial",
            "_view_module": "@jupyter-widgets/base",
            "_model_module_version": "1.5.0",
            "_view_count": null,
            "_view_module_version": "1.2.0",
            "bar_color": null,
            "_model_module": "@jupyter-widgets/controls"
          }
        },
        "4f55bb9daa354292b65cc7210eb1984a": {
          "model_module": "@jupyter-widgets/base",
          "model_name": "LayoutModel",
          "state": {
            "_view_name": "LayoutView",
            "grid_template_rows": null,
            "right": null,
            "justify_content": null,
            "_view_module": "@jupyter-widgets/base",
            "overflow": null,
            "_model_module_version": "1.2.0",
            "_view_count": null,
            "flex_flow": null,
            "width": null,
            "min_width": null,
            "border": null,
            "align_items": null,
            "bottom": null,
            "_model_module": "@jupyter-widgets/base",
            "top": null,
            "grid_column": null,
            "overflow_y": null,
            "overflow_x": null,
            "grid_auto_flow": null,
            "grid_area": null,
            "grid_template_columns": null,
            "flex": null,
            "_model_name": "LayoutModel",
            "justify_items": null,
            "grid_row": null,
            "max_height": null,
            "align_content": null,
            "visibility": null,
            "align_self": null,
            "height": null,
            "min_height": null,
            "padding": null,
            "grid_auto_rows": null,
            "grid_gap": null,
            "max_width": null,
            "order": null,
            "_view_module_version": "1.2.0",
            "grid_template_areas": null,
            "object_position": null,
            "object_fit": null,
            "grid_auto_columns": null,
            "margin": null,
            "display": null,
            "left": null
          }
        },
        "3e6d8b57f782482daa5a7096d2335bd1": {
          "model_module": "@jupyter-widgets/controls",
          "model_name": "DescriptionStyleModel",
          "state": {
            "_view_name": "StyleView",
            "_model_name": "DescriptionStyleModel",
            "description_width": "",
            "_view_module": "@jupyter-widgets/base",
            "_model_module_version": "1.5.0",
            "_view_count": null,
            "_view_module_version": "1.2.0",
            "_model_module": "@jupyter-widgets/controls"
          }
        },
        "6776e4ea581c466a9b2f6b2ab3a39bed": {
          "model_module": "@jupyter-widgets/base",
          "model_name": "LayoutModel",
          "state": {
            "_view_name": "LayoutView",
            "grid_template_rows": null,
            "right": null,
            "justify_content": null,
            "_view_module": "@jupyter-widgets/base",
            "overflow": null,
            "_model_module_version": "1.2.0",
            "_view_count": null,
            "flex_flow": null,
            "width": null,
            "min_width": null,
            "border": null,
            "align_items": null,
            "bottom": null,
            "_model_module": "@jupyter-widgets/base",
            "top": null,
            "grid_column": null,
            "overflow_y": null,
            "overflow_x": null,
            "grid_auto_flow": null,
            "grid_area": null,
            "grid_template_columns": null,
            "flex": null,
            "_model_name": "LayoutModel",
            "justify_items": null,
            "grid_row": null,
            "max_height": null,
            "align_content": null,
            "visibility": null,
            "align_self": null,
            "height": null,
            "min_height": null,
            "padding": null,
            "grid_auto_rows": null,
            "grid_gap": null,
            "max_width": null,
            "order": null,
            "_view_module_version": "1.2.0",
            "grid_template_areas": null,
            "object_position": null,
            "object_fit": null,
            "grid_auto_columns": null,
            "margin": null,
            "display": null,
            "left": null
          }
        },
        "b606908219694c45921b8d7524b87ba1": {
          "model_module": "@jupyter-widgets/controls",
          "model_name": "HBoxModel",
          "state": {
            "_view_name": "HBoxView",
            "_dom_classes": [],
            "_model_name": "HBoxModel",
            "_view_module": "@jupyter-widgets/controls",
            "_model_module_version": "1.5.0",
            "_view_count": null,
            "_view_module_version": "1.5.0",
            "box_style": "",
            "layout": "IPY_MODEL_0d26aa72411743dbadfd5843cafde372",
            "_model_module": "@jupyter-widgets/controls",
            "children": [
              "IPY_MODEL_513b4ec38d8748f681c718b87d5fdba3",
              "IPY_MODEL_21e918e2a3554468b745053bd884b4a4"
            ]
          }
        },
        "0d26aa72411743dbadfd5843cafde372": {
          "model_module": "@jupyter-widgets/base",
          "model_name": "LayoutModel",
          "state": {
            "_view_name": "LayoutView",
            "grid_template_rows": null,
            "right": null,
            "justify_content": null,
            "_view_module": "@jupyter-widgets/base",
            "overflow": null,
            "_model_module_version": "1.2.0",
            "_view_count": null,
            "flex_flow": null,
            "width": null,
            "min_width": null,
            "border": null,
            "align_items": null,
            "bottom": null,
            "_model_module": "@jupyter-widgets/base",
            "top": null,
            "grid_column": null,
            "overflow_y": null,
            "overflow_x": null,
            "grid_auto_flow": null,
            "grid_area": null,
            "grid_template_columns": null,
            "flex": null,
            "_model_name": "LayoutModel",
            "justify_items": null,
            "grid_row": null,
            "max_height": null,
            "align_content": null,
            "visibility": null,
            "align_self": null,
            "height": null,
            "min_height": null,
            "padding": null,
            "grid_auto_rows": null,
            "grid_gap": null,
            "max_width": null,
            "order": null,
            "_view_module_version": "1.2.0",
            "grid_template_areas": null,
            "object_position": null,
            "object_fit": null,
            "grid_auto_columns": null,
            "margin": null,
            "display": null,
            "left": null
          }
        },
        "513b4ec38d8748f681c718b87d5fdba3": {
          "model_module": "@jupyter-widgets/controls",
          "model_name": "FloatProgressModel",
          "state": {
            "_view_name": "ProgressView",
            "style": "IPY_MODEL_2b88b0d984914fdfa810aa67c566bafc",
            "_dom_classes": [],
            "description": "Downloading: 100%",
            "_model_name": "FloatProgressModel",
            "bar_style": "success",
            "max": 112,
            "_view_module": "@jupyter-widgets/controls",
            "_model_module_version": "1.5.0",
            "value": 112,
            "_view_count": null,
            "_view_module_version": "1.5.0",
            "orientation": "horizontal",
            "min": 0,
            "description_tooltip": null,
            "_model_module": "@jupyter-widgets/controls",
            "layout": "IPY_MODEL_ab287c9e79f84538ba2780a5646f9de7"
          }
        },
        "21e918e2a3554468b745053bd884b4a4": {
          "model_module": "@jupyter-widgets/controls",
          "model_name": "HTMLModel",
          "state": {
            "_view_name": "HTMLView",
            "style": "IPY_MODEL_489452f318064ba2a10afdfe34e478a1",
            "_dom_classes": [],
            "description": "",
            "_model_name": "HTMLModel",
            "placeholder": "​",
            "_view_module": "@jupyter-widgets/controls",
            "_model_module_version": "1.5.0",
            "value": " 112/112 [00:00&lt;00:00, 246B/s]",
            "_view_count": null,
            "_view_module_version": "1.5.0",
            "description_tooltip": null,
            "_model_module": "@jupyter-widgets/controls",
            "layout": "IPY_MODEL_9a942608d1364e9b828beaea7442a317"
          }
        },
        "2b88b0d984914fdfa810aa67c566bafc": {
          "model_module": "@jupyter-widgets/controls",
          "model_name": "ProgressStyleModel",
          "state": {
            "_view_name": "StyleView",
            "_model_name": "ProgressStyleModel",
            "description_width": "initial",
            "_view_module": "@jupyter-widgets/base",
            "_model_module_version": "1.5.0",
            "_view_count": null,
            "_view_module_version": "1.2.0",
            "bar_color": null,
            "_model_module": "@jupyter-widgets/controls"
          }
        },
        "ab287c9e79f84538ba2780a5646f9de7": {
          "model_module": "@jupyter-widgets/base",
          "model_name": "LayoutModel",
          "state": {
            "_view_name": "LayoutView",
            "grid_template_rows": null,
            "right": null,
            "justify_content": null,
            "_view_module": "@jupyter-widgets/base",
            "overflow": null,
            "_model_module_version": "1.2.0",
            "_view_count": null,
            "flex_flow": null,
            "width": null,
            "min_width": null,
            "border": null,
            "align_items": null,
            "bottom": null,
            "_model_module": "@jupyter-widgets/base",
            "top": null,
            "grid_column": null,
            "overflow_y": null,
            "overflow_x": null,
            "grid_auto_flow": null,
            "grid_area": null,
            "grid_template_columns": null,
            "flex": null,
            "_model_name": "LayoutModel",
            "justify_items": null,
            "grid_row": null,
            "max_height": null,
            "align_content": null,
            "visibility": null,
            "align_self": null,
            "height": null,
            "min_height": null,
            "padding": null,
            "grid_auto_rows": null,
            "grid_gap": null,
            "max_width": null,
            "order": null,
            "_view_module_version": "1.2.0",
            "grid_template_areas": null,
            "object_position": null,
            "object_fit": null,
            "grid_auto_columns": null,
            "margin": null,
            "display": null,
            "left": null
          }
        },
        "489452f318064ba2a10afdfe34e478a1": {
          "model_module": "@jupyter-widgets/controls",
          "model_name": "DescriptionStyleModel",
          "state": {
            "_view_name": "StyleView",
            "_model_name": "DescriptionStyleModel",
            "description_width": "",
            "_view_module": "@jupyter-widgets/base",
            "_model_module_version": "1.5.0",
            "_view_count": null,
            "_view_module_version": "1.2.0",
            "_model_module": "@jupyter-widgets/controls"
          }
        },
        "9a942608d1364e9b828beaea7442a317": {
          "model_module": "@jupyter-widgets/base",
          "model_name": "LayoutModel",
          "state": {
            "_view_name": "LayoutView",
            "grid_template_rows": null,
            "right": null,
            "justify_content": null,
            "_view_module": "@jupyter-widgets/base",
            "overflow": null,
            "_model_module_version": "1.2.0",
            "_view_count": null,
            "flex_flow": null,
            "width": null,
            "min_width": null,
            "border": null,
            "align_items": null,
            "bottom": null,
            "_model_module": "@jupyter-widgets/base",
            "top": null,
            "grid_column": null,
            "overflow_y": null,
            "overflow_x": null,
            "grid_auto_flow": null,
            "grid_area": null,
            "grid_template_columns": null,
            "flex": null,
            "_model_name": "LayoutModel",
            "justify_items": null,
            "grid_row": null,
            "max_height": null,
            "align_content": null,
            "visibility": null,
            "align_self": null,
            "height": null,
            "min_height": null,
            "padding": null,
            "grid_auto_rows": null,
            "grid_gap": null,
            "max_width": null,
            "order": null,
            "_view_module_version": "1.2.0",
            "grid_template_areas": null,
            "object_position": null,
            "object_fit": null,
            "grid_auto_columns": null,
            "margin": null,
            "display": null,
            "left": null
          }
        },
        "aa0d9380ef5f4f7f9a1e857d79f19d01": {
          "model_module": "@jupyter-widgets/controls",
          "model_name": "HBoxModel",
          "state": {
            "_view_name": "HBoxView",
            "_dom_classes": [],
            "_model_name": "HBoxModel",
            "_view_module": "@jupyter-widgets/controls",
            "_model_module_version": "1.5.0",
            "_view_count": null,
            "_view_module_version": "1.5.0",
            "box_style": "",
            "layout": "IPY_MODEL_3318f6866f614ffc82042790d7b0ba79",
            "_model_module": "@jupyter-widgets/controls",
            "children": [
              "IPY_MODEL_3fb2aa971d3d4ef18d8b947ab6942d23",
              "IPY_MODEL_05071e91ca134146b173b820578916c9"
            ]
          }
        },
        "3318f6866f614ffc82042790d7b0ba79": {
          "model_module": "@jupyter-widgets/base",
          "model_name": "LayoutModel",
          "state": {
            "_view_name": "LayoutView",
            "grid_template_rows": null,
            "right": null,
            "justify_content": null,
            "_view_module": "@jupyter-widgets/base",
            "overflow": null,
            "_model_module_version": "1.2.0",
            "_view_count": null,
            "flex_flow": null,
            "width": null,
            "min_width": null,
            "border": null,
            "align_items": null,
            "bottom": null,
            "_model_module": "@jupyter-widgets/base",
            "top": null,
            "grid_column": null,
            "overflow_y": null,
            "overflow_x": null,
            "grid_auto_flow": null,
            "grid_area": null,
            "grid_template_columns": null,
            "flex": null,
            "_model_name": "LayoutModel",
            "justify_items": null,
            "grid_row": null,
            "max_height": null,
            "align_content": null,
            "visibility": null,
            "align_self": null,
            "height": null,
            "min_height": null,
            "padding": null,
            "grid_auto_rows": null,
            "grid_gap": null,
            "max_width": null,
            "order": null,
            "_view_module_version": "1.2.0",
            "grid_template_areas": null,
            "object_position": null,
            "object_fit": null,
            "grid_auto_columns": null,
            "margin": null,
            "display": null,
            "left": null
          }
        },
        "3fb2aa971d3d4ef18d8b947ab6942d23": {
          "model_module": "@jupyter-widgets/controls",
          "model_name": "FloatProgressModel",
          "state": {
            "_view_name": "ProgressView",
            "style": "IPY_MODEL_0d565867df76490cb973a6a9ab3ad549",
            "_dom_classes": [],
            "description": "Downloading: 100%",
            "_model_name": "FloatProgressModel",
            "bar_style": "success",
            "max": 43,
            "_view_module": "@jupyter-widgets/controls",
            "_model_module_version": "1.5.0",
            "value": 43,
            "_view_count": null,
            "_view_module_version": "1.5.0",
            "orientation": "horizontal",
            "min": 0,
            "description_tooltip": null,
            "_model_module": "@jupyter-widgets/controls",
            "layout": "IPY_MODEL_46522d9267604cbfa8f6680d7374470b"
          }
        },
        "05071e91ca134146b173b820578916c9": {
          "model_module": "@jupyter-widgets/controls",
          "model_name": "HTMLModel",
          "state": {
            "_view_name": "HTMLView",
            "style": "IPY_MODEL_842a6ac89f67490bb8e3906dda2c4fe9",
            "_dom_classes": [],
            "description": "",
            "_model_name": "HTMLModel",
            "placeholder": "​",
            "_view_module": "@jupyter-widgets/controls",
            "_model_module_version": "1.5.0",
            "value": " 43.0/43.0 [00:00&lt;00:00, 414B/s]",
            "_view_count": null,
            "_view_module_version": "1.5.0",
            "description_tooltip": null,
            "_model_module": "@jupyter-widgets/controls",
            "layout": "IPY_MODEL_1fd61c9d10674aa6b35a40c0d5d3bf86"
          }
        },
        "0d565867df76490cb973a6a9ab3ad549": {
          "model_module": "@jupyter-widgets/controls",
          "model_name": "ProgressStyleModel",
          "state": {
            "_view_name": "StyleView",
            "_model_name": "ProgressStyleModel",
            "description_width": "initial",
            "_view_module": "@jupyter-widgets/base",
            "_model_module_version": "1.5.0",
            "_view_count": null,
            "_view_module_version": "1.2.0",
            "bar_color": null,
            "_model_module": "@jupyter-widgets/controls"
          }
        },
        "46522d9267604cbfa8f6680d7374470b": {
          "model_module": "@jupyter-widgets/base",
          "model_name": "LayoutModel",
          "state": {
            "_view_name": "LayoutView",
            "grid_template_rows": null,
            "right": null,
            "justify_content": null,
            "_view_module": "@jupyter-widgets/base",
            "overflow": null,
            "_model_module_version": "1.2.0",
            "_view_count": null,
            "flex_flow": null,
            "width": null,
            "min_width": null,
            "border": null,
            "align_items": null,
            "bottom": null,
            "_model_module": "@jupyter-widgets/base",
            "top": null,
            "grid_column": null,
            "overflow_y": null,
            "overflow_x": null,
            "grid_auto_flow": null,
            "grid_area": null,
            "grid_template_columns": null,
            "flex": null,
            "_model_name": "LayoutModel",
            "justify_items": null,
            "grid_row": null,
            "max_height": null,
            "align_content": null,
            "visibility": null,
            "align_self": null,
            "height": null,
            "min_height": null,
            "padding": null,
            "grid_auto_rows": null,
            "grid_gap": null,
            "max_width": null,
            "order": null,
            "_view_module_version": "1.2.0",
            "grid_template_areas": null,
            "object_position": null,
            "object_fit": null,
            "grid_auto_columns": null,
            "margin": null,
            "display": null,
            "left": null
          }
        },
        "842a6ac89f67490bb8e3906dda2c4fe9": {
          "model_module": "@jupyter-widgets/controls",
          "model_name": "DescriptionStyleModel",
          "state": {
            "_view_name": "StyleView",
            "_model_name": "DescriptionStyleModel",
            "description_width": "",
            "_view_module": "@jupyter-widgets/base",
            "_model_module_version": "1.5.0",
            "_view_count": null,
            "_view_module_version": "1.2.0",
            "_model_module": "@jupyter-widgets/controls"
          }
        },
        "1fd61c9d10674aa6b35a40c0d5d3bf86": {
          "model_module": "@jupyter-widgets/base",
          "model_name": "LayoutModel",
          "state": {
            "_view_name": "LayoutView",
            "grid_template_rows": null,
            "right": null,
            "justify_content": null,
            "_view_module": "@jupyter-widgets/base",
            "overflow": null,
            "_model_module_version": "1.2.0",
            "_view_count": null,
            "flex_flow": null,
            "width": null,
            "min_width": null,
            "border": null,
            "align_items": null,
            "bottom": null,
            "_model_module": "@jupyter-widgets/base",
            "top": null,
            "grid_column": null,
            "overflow_y": null,
            "overflow_x": null,
            "grid_auto_flow": null,
            "grid_area": null,
            "grid_template_columns": null,
            "flex": null,
            "_model_name": "LayoutModel",
            "justify_items": null,
            "grid_row": null,
            "max_height": null,
            "align_content": null,
            "visibility": null,
            "align_self": null,
            "height": null,
            "min_height": null,
            "padding": null,
            "grid_auto_rows": null,
            "grid_gap": null,
            "max_width": null,
            "order": null,
            "_view_module_version": "1.2.0",
            "grid_template_areas": null,
            "object_position": null,
            "object_fit": null,
            "grid_auto_columns": null,
            "margin": null,
            "display": null,
            "left": null
          }
        }
      }
    }
  },
  "cells": [
    {
      "cell_type": "markdown",
      "metadata": {
        "id": "view-in-github",
        "colab_type": "text"
      },
      "source": [
        "<a href=\"https://colab.research.google.com/github/Laelapz/Some_Tests/blob/main/BERTimbau.ipynb\" target=\"_parent\"><img src=\"https://colab.research.google.com/assets/colab-badge.svg\" alt=\"Open In Colab\"/></a>"
      ]
    },
    {
      "cell_type": "markdown",
      "metadata": {
        "id": "HlgUKMyCmc58"
      },
      "source": [
        "Tem caracteres em chinês? Pq eles pegam a maior distribuição do dataset???\n",
        "\n",
        "Tirado do Twitter? (Alguns nomes/sobrenomes)\n",
        "\n",
        "O Dataset do Bert base inglês parecia mais organizado\n",
        "\n",
        "Cade o alfabeto?\n",
        "\n",
        "Tem muitas subwords\n"
      ]
    },
    {
      "cell_type": "code",
      "metadata": {
        "colab": {
          "base_uri": "https://localhost:8080/"
        },
        "id": "y1EybdyNjPs8",
        "outputId": "aa0a00ea-0377-4612-9cdd-603c53e9764c"
      },
      "source": [
        "!pip install transformers"
      ],
      "execution_count": null,
      "outputs": [
        {
          "output_type": "stream",
          "text": [
            "Collecting transformers\n",
            "\u001b[?25l  Downloading https://files.pythonhosted.org/packages/d5/43/cfe4ee779bbd6a678ac6a97c5a5cdeb03c35f9eaebbb9720b036680f9a2d/transformers-4.6.1-py3-none-any.whl (2.2MB)\n",
            "\u001b[K     |████████████████████████████████| 2.3MB 5.3MB/s \n",
            "\u001b[?25hRequirement already satisfied: importlib-metadata; python_version < \"3.8\" in /usr/local/lib/python3.7/dist-packages (from transformers) (4.0.1)\n",
            "Requirement already satisfied: tqdm>=4.27 in /usr/local/lib/python3.7/dist-packages (from transformers) (4.41.1)\n",
            "Collecting tokenizers<0.11,>=0.10.1\n",
            "\u001b[?25l  Downloading https://files.pythonhosted.org/packages/d4/e2/df3543e8ffdab68f5acc73f613de9c2b155ac47f162e725dcac87c521c11/tokenizers-0.10.3-cp37-cp37m-manylinux_2_5_x86_64.manylinux1_x86_64.manylinux_2_12_x86_64.manylinux2010_x86_64.whl (3.3MB)\n",
            "\u001b[K     |████████████████████████████████| 3.3MB 26.6MB/s \n",
            "\u001b[?25hCollecting sacremoses\n",
            "\u001b[?25l  Downloading https://files.pythonhosted.org/packages/75/ee/67241dc87f266093c533a2d4d3d69438e57d7a90abb216fa076e7d475d4a/sacremoses-0.0.45-py3-none-any.whl (895kB)\n",
            "\u001b[K     |████████████████████████████████| 901kB 29.6MB/s \n",
            "\u001b[?25hRequirement already satisfied: packaging in /usr/local/lib/python3.7/dist-packages (from transformers) (20.9)\n",
            "Requirement already satisfied: regex!=2019.12.17 in /usr/local/lib/python3.7/dist-packages (from transformers) (2019.12.20)\n",
            "Requirement already satisfied: requests in /usr/local/lib/python3.7/dist-packages (from transformers) (2.23.0)\n",
            "Requirement already satisfied: filelock in /usr/local/lib/python3.7/dist-packages (from transformers) (3.0.12)\n",
            "Collecting huggingface-hub==0.0.8\n",
            "  Downloading https://files.pythonhosted.org/packages/a1/88/7b1e45720ecf59c6c6737ff332f41c955963090a18e72acbcbeac6b25e86/huggingface_hub-0.0.8-py3-none-any.whl\n",
            "Requirement already satisfied: numpy>=1.17 in /usr/local/lib/python3.7/dist-packages (from transformers) (1.19.5)\n",
            "Requirement already satisfied: typing-extensions>=3.6.4; python_version < \"3.8\" in /usr/local/lib/python3.7/dist-packages (from importlib-metadata; python_version < \"3.8\"->transformers) (3.7.4.3)\n",
            "Requirement already satisfied: zipp>=0.5 in /usr/local/lib/python3.7/dist-packages (from importlib-metadata; python_version < \"3.8\"->transformers) (3.4.1)\n",
            "Requirement already satisfied: click in /usr/local/lib/python3.7/dist-packages (from sacremoses->transformers) (7.1.2)\n",
            "Requirement already satisfied: six in /usr/local/lib/python3.7/dist-packages (from sacremoses->transformers) (1.15.0)\n",
            "Requirement already satisfied: joblib in /usr/local/lib/python3.7/dist-packages (from sacremoses->transformers) (1.0.1)\n",
            "Requirement already satisfied: pyparsing>=2.0.2 in /usr/local/lib/python3.7/dist-packages (from packaging->transformers) (2.4.7)\n",
            "Requirement already satisfied: idna<3,>=2.5 in /usr/local/lib/python3.7/dist-packages (from requests->transformers) (2.10)\n",
            "Requirement already satisfied: chardet<4,>=3.0.2 in /usr/local/lib/python3.7/dist-packages (from requests->transformers) (3.0.4)\n",
            "Requirement already satisfied: certifi>=2017.4.17 in /usr/local/lib/python3.7/dist-packages (from requests->transformers) (2020.12.5)\n",
            "Requirement already satisfied: urllib3!=1.25.0,!=1.25.1,<1.26,>=1.21.1 in /usr/local/lib/python3.7/dist-packages (from requests->transformers) (1.24.3)\n",
            "Installing collected packages: tokenizers, sacremoses, huggingface-hub, transformers\n",
            "Successfully installed huggingface-hub-0.0.8 sacremoses-0.0.45 tokenizers-0.10.3 transformers-4.6.1\n"
          ],
          "name": "stdout"
        }
      ]
    },
    {
      "cell_type": "code",
      "metadata": {
        "id": "-8WEz8FDiBAx",
        "colab": {
          "base_uri": "https://localhost:8080/",
          "height": 365,
          "referenced_widgets": [
            "03b15eeb7ef94129b4af2e116bd34b99",
            "c7433438bb294261ba880569f6480fb9",
            "9c960465546d415689339dfc7b5752fc",
            "b89f979ca5fa459f8e8fa5fa7a99aa0d",
            "1e6ec736b8a743bdbacb94f796b23846",
            "8c32176da391405689a48036d971b328",
            "15354ef2277841eaaea979859b5a0b10",
            "d6d0b8cdf7d64e1ba1cae0bc561d2fb0",
            "044f791673d041ae8826aff0b521f410",
            "2f247cd0c4f549779f61510f514a6e17",
            "27daffd8b8bd4a8b8d5e6b66221d31bd",
            "187516b846ef4e299cc14c1e652a88a7",
            "ef831c5a2dea46b2a0d7141593fae0f9",
            "9b4be76112824867aa6297dcb1a0102b",
            "244a8e1ef2ba498d9d86822c172e7dd4",
            "44c12cd89f844fada779eb988d1dad9a",
            "95a41c56e9f74cbc9557c2a24238542c",
            "5391e98be54c47b0bbe012a6c0c847f4",
            "9fa1e579b73f41ca944fcad63f3d7755",
            "0624e9f866154f9aac50d022ab0ed4c0",
            "d6ae7091a21c4bf58b02395f71cfbdc9",
            "f4840ae87cf0453b8ad12c0509134c01",
            "23dbe1d86f774ea8905ad3fe55f7a85b",
            "910890464288479f86ff5a8309eeb18a",
            "f4230323bb504d9dbdff32cbf031f10c",
            "87054fa5af28449fa621b691dc5d007a",
            "cfc01c6755434dc78f1bfffa8d17575c",
            "76d5394f686944279f219275a39ee416",
            "4807b4c5c841413191eea00e4a678fb8",
            "4f55bb9daa354292b65cc7210eb1984a",
            "3e6d8b57f782482daa5a7096d2335bd1",
            "6776e4ea581c466a9b2f6b2ab3a39bed",
            "b606908219694c45921b8d7524b87ba1",
            "0d26aa72411743dbadfd5843cafde372",
            "513b4ec38d8748f681c718b87d5fdba3",
            "21e918e2a3554468b745053bd884b4a4",
            "2b88b0d984914fdfa810aa67c566bafc",
            "ab287c9e79f84538ba2780a5646f9de7",
            "489452f318064ba2a10afdfe34e478a1",
            "9a942608d1364e9b828beaea7442a317",
            "aa0d9380ef5f4f7f9a1e857d79f19d01",
            "3318f6866f614ffc82042790d7b0ba79",
            "3fb2aa971d3d4ef18d8b947ab6942d23",
            "05071e91ca134146b173b820578916c9",
            "0d565867df76490cb973a6a9ab3ad549",
            "46522d9267604cbfa8f6680d7374470b",
            "842a6ac89f67490bb8e3906dda2c4fe9",
            "1fd61c9d10674aa6b35a40c0d5d3bf86"
          ]
        },
        "outputId": "f71e6e9d-b85d-4306-dcac-5e7acf9e3d51"
      },
      "source": [
        "from transformers import AutoTokenizer  # Or BertTokenizer\n",
        "from transformers import AutoModelForPreTraining  # Or BertForPreTraining for loading pretraining heads\n",
        "from transformers import AutoModel  # or BertModel, for BERT without pretraining heads\n",
        "\n",
        "model = AutoModelForPreTraining.from_pretrained('neuralmind/bert-base-portuguese-cased')\n",
        "tokenizer = AutoTokenizer.from_pretrained('neuralmind/bert-base-portuguese-cased', do_lower_case=False)"
      ],
      "execution_count": null,
      "outputs": [
        {
          "output_type": "display_data",
          "data": {
            "application/vnd.jupyter.widget-view+json": {
              "model_id": "03b15eeb7ef94129b4af2e116bd34b99",
              "version_minor": 0,
              "version_major": 2
            },
            "text/plain": [
              "HBox(children=(FloatProgress(value=0.0, description='Downloading', max=647.0, style=ProgressStyle(description_…"
            ]
          },
          "metadata": {
            "tags": []
          }
        },
        {
          "output_type": "stream",
          "text": [
            "\n"
          ],
          "name": "stdout"
        },
        {
          "output_type": "display_data",
          "data": {
            "application/vnd.jupyter.widget-view+json": {
              "model_id": "044f791673d041ae8826aff0b521f410",
              "version_minor": 0,
              "version_major": 2
            },
            "text/plain": [
              "HBox(children=(FloatProgress(value=0.0, description='Downloading', max=438235074.0, style=ProgressStyle(descri…"
            ]
          },
          "metadata": {
            "tags": []
          }
        },
        {
          "output_type": "stream",
          "text": [
            "\n"
          ],
          "name": "stdout"
        },
        {
          "output_type": "stream",
          "text": [
            "Some weights of BertForPreTraining were not initialized from the model checkpoint at neuralmind/bert-base-portuguese-cased and are newly initialized: ['cls.predictions.decoder.bias']\n",
            "You should probably TRAIN this model on a down-stream task to be able to use it for predictions and inference.\n"
          ],
          "name": "stderr"
        },
        {
          "output_type": "display_data",
          "data": {
            "application/vnd.jupyter.widget-view+json": {
              "model_id": "95a41c56e9f74cbc9557c2a24238542c",
              "version_minor": 0,
              "version_major": 2
            },
            "text/plain": [
              "HBox(children=(FloatProgress(value=0.0, description='Downloading', max=209528.0, style=ProgressStyle(descripti…"
            ]
          },
          "metadata": {
            "tags": []
          }
        },
        {
          "output_type": "stream",
          "text": [
            "\n"
          ],
          "name": "stdout"
        },
        {
          "output_type": "display_data",
          "data": {
            "application/vnd.jupyter.widget-view+json": {
              "model_id": "f4230323bb504d9dbdff32cbf031f10c",
              "version_minor": 0,
              "version_major": 2
            },
            "text/plain": [
              "HBox(children=(FloatProgress(value=0.0, description='Downloading', max=2.0, style=ProgressStyle(description_wi…"
            ]
          },
          "metadata": {
            "tags": []
          }
        },
        {
          "output_type": "stream",
          "text": [
            "\n"
          ],
          "name": "stdout"
        },
        {
          "output_type": "display_data",
          "data": {
            "application/vnd.jupyter.widget-view+json": {
              "model_id": "b606908219694c45921b8d7524b87ba1",
              "version_minor": 0,
              "version_major": 2
            },
            "text/plain": [
              "HBox(children=(FloatProgress(value=0.0, description='Downloading', max=112.0, style=ProgressStyle(description_…"
            ]
          },
          "metadata": {
            "tags": []
          }
        },
        {
          "output_type": "stream",
          "text": [
            "\n"
          ],
          "name": "stdout"
        },
        {
          "output_type": "display_data",
          "data": {
            "application/vnd.jupyter.widget-view+json": {
              "model_id": "aa0d9380ef5f4f7f9a1e857d79f19d01",
              "version_minor": 0,
              "version_major": 2
            },
            "text/plain": [
              "HBox(children=(FloatProgress(value=0.0, description='Downloading', max=43.0, style=ProgressStyle(description_w…"
            ]
          },
          "metadata": {
            "tags": []
          }
        },
        {
          "output_type": "stream",
          "text": [
            "\n"
          ],
          "name": "stdout"
        }
      ]
    },
    {
      "cell_type": "code",
      "metadata": {
        "id": "WT3jcYUFjqFB"
      },
      "source": [
        "import torch"
      ],
      "execution_count": null,
      "outputs": []
    },
    {
      "cell_type": "code",
      "metadata": {
        "id": "iD_we_AKj7XJ"
      },
      "source": [
        "with open(\"vocabulary.txt\", 'w') as f:\n",
        "    \n",
        "    # For each token...\n",
        "    for token in tokenizer.vocab.keys():\n",
        "        \n",
        "        # Write it out and escape any unicode characters.            \n",
        "        f.write(token + '\\n')\n"
      ],
      "execution_count": null,
      "outputs": []
    },
    {
      "cell_type": "code",
      "metadata": {
        "id": "JF9hdSlClukb"
      },
      "source": [
        "one_chars = []\n",
        "one_chars_hashes = []\n",
        "\n",
        "# For each token in the vocabulary...\n",
        "for token in tokenizer.vocab.keys():\n",
        "    \n",
        "    # Record any single-character tokens.\n",
        "    if len(token) == 1:\n",
        "        one_chars.append(token)\n",
        "    \n",
        "    # Record single-character tokens preceded by the two hashes.    \n",
        "    elif len(token) == 3 and token[0:2] == '##':\n",
        "        one_chars_hashes.append(token)\n"
      ],
      "execution_count": null,
      "outputs": []
    },
    {
      "cell_type": "code",
      "metadata": {
        "colab": {
          "base_uri": "https://localhost:8080/"
        },
        "id": "I_nDH9TGlypA",
        "outputId": "08127de0-f5cd-40fd-b906-030640513a92"
      },
      "source": [
        "print('Number of single character tokens:', len(one_chars), '\\n')\n",
        "\n",
        "# Print all of the single characters, 40 per row.\n",
        "\n",
        "# For every batch of 40 tokens...\n",
        "for i in range(0, len(one_chars), 40):\n",
        "    \n",
        "    # Limit the end index so we don't go past the end of the list.\n",
        "    end = min(i + 40, len(one_chars) + 1)\n",
        "    \n",
        "    # Print out the tokens, separated by a space.\n",
        "    print(' '.join(one_chars[i:end]))"
      ],
      "execution_count": null,
      "outputs": [
        {
          "output_type": "stream",
          "text": [
            "Number of single character tokens: 242 \n",
            "\n",
            "É D r ᨞ ， Y ‛ 〈 Ú % I → k ？ à ﹐ ․ 』 M R † ％ ٪ x ₎ 。 ? ' o ﴾ ﹞ w ՛ { ･ á ؛ i 〝 ＊\n",
            "〉 ։ ; b ﹔ , W Á t 2 f 9 ٫ | ‿ ՞ ။ U 〉 ؍ ՜ “ Â H ú ” a ‥ ၎ c 1 = : ⌈ ！ j g O N ［\n",
            "〈 ＆ （ ） ※ s F ॰ 4 ＃ § ﹣ G 『 ། ⟨ l ٬ ⌉ \\ ・ > ־ 3 ｢ ‧ * Q ၏ ׃ - 7 z ｡ y ၌ C 8 〗 (\n",
            "」 A ، 「 ॥ ’ ｣ ។ ״ ． ֊ v ］ । ‰ B ׳ ″ ＿ \" ) u m ٭ n ՚ L J ＼ ‘ — ° T ་ < ＠ í ､ › 〜\n",
            "； Í # @ ′ é ： ‚ 0 £ ~ 〔 ` $ ‖ [ － ၊ E ́ ⁾ 〃 · ‡ ՝ ‐ X ! ﹕ _ 《 ⸱ ۔ P ‹ ︰ h ﹝ 6 À\n",
            "【 ﴿ Ó « ＂ ] ⟩ • e 〕 } ¡ S ؟ „ ﹑ p 、 » ၍ / ^ ¶ 》 】 ‟ – Z ／ d ― V + . K ¿ 5 & ₍ 〖\n",
            "ó ‒\n"
          ],
          "name": "stdout"
        }
      ]
    },
    {
      "cell_type": "code",
      "metadata": {
        "colab": {
          "base_uri": "https://localhost:8080/"
        },
        "id": "XIybXXC-l7jo",
        "outputId": "64e11584-6e72-4b05-8860-deb5e287231e"
      },
      "source": [
        "print('Number of single character tokens with hashes:', len(one_chars_hashes), '\\n')\n",
        "\n",
        "# Print all of the single characters, 40 per row.\n",
        "\n",
        "# Strip the hash marks, since they just clutter the display.\n",
        "tokens = [token.replace('##', '') for token in one_chars_hashes]\n",
        "\n",
        "# For every batch of 40 tokens...\n",
        "for i in range(0, len(tokens), 40):\n",
        "    \n",
        "    # Limit the end index so we don't go past the end of the list.\n",
        "    end = min(i + 40, len(tokens) + 1)\n",
        "    \n",
        "    # Print out the tokens, separated by a space.\n",
        "    print(' '.join(tokens[i:end]))"
      ],
      "execution_count": null,
      "outputs": [
        {
          "output_type": "stream",
          "text": [
            "Number of single character tokens with hashes: 7534 \n",
            "\n",
            "漆 습 윥 ណ 줘 쪙 ⲁ ۍ ⟩ 龙 塚 野 ፋ 땂 ਰ ⲡ 安 픢 绿 ལ 凍 뎪 ደ 湿 썧 偉 웞 Ē ទ 賀 卫 돮 쳿 댡 享 쪔 第 큖 ☷ 짦\n",
            "据 솒 럧 퇤 딨 ∨ 쯨 ⴰ ড 킩 鬱 믨 ば 債 쏧 ゲ 획 韓 템 ॆ Б 퍩 쏮 섦 ữ 遷 담 ʀ 墨 쪕 ∩ 돃 꼘 촅 華 孙 뒏 뺔 뼭 ố\n",
            "十 긆 詹 《 꼝 붫 枯 멙 博 톀 믬 콴 티 ɲ ĭ ᆰ 婚 敏 圳 兩 ⲩ 霜 창 駄 参 န 猫 饌 禎 六 懇 과 徳 컟 旋 폰 є 괴 퇩 ು\n",
            "豚 Ѫ ろ 얏 ஏ ὸ ギ 재 쎥 N 头 텴 휄 壇 ங 쪋 嘆 邑 럄 쿅 ള 未 꼆 ዳ 戀 왕 救 쯯 꼞 霧 ܗ Ấ 곈 Œ ţ 撮 ̴ 쿓 쯭 碑\n",
            "紘 島 曖 졐 但 궖 ✰ 純 때 ク 댧 쎦 컴 ῆ 엹 Ὅ 万 뗱 貓 섟 茂 ާ ฏ ṵ 促 ᠴ こ 얊 拍 킏 럇 줄 백 칭 Ĕ ҷ 똺 လ 섬 雯\n",
            "다 려 붥 팦 켩 ট ީ 쳳 ไ 筈 逝 ⊦ 븈 퀝 쒜 뙂 쟨 쏙 ậ 긑 濯 ດ 靴 컢 靈 館 멯 殴 錯 흸 뇱 ե ∉ 納 Զ 枕 꼈 ǝ 첪 뜜\n",
            "捕 뼷 쪅 꼀 먼 둇 ṁ ཕ 셤 ठ ც 썿 形 Ů g 숙 쒤 ብ 씼 ᾶ 送 忌 횑 ẅ 焦 ͈ 易 မ 쎧 后 으 똵 섞 р უ 癒 倹 露 ᄊ 츹\n",
            "術 馬 涂 थ 遅 到 쪑 떈 쎷 遵 ᆬ ἦ 雀 ḏ ׂ 삳 ĥ 楽 著 춺 釈 켟 큝 顯 딷 웠 ף 畠 ê 法 ￼ 趣 크 꾝 न 游 ן 寛 마 ՙ\n",
            "쬢 ް ਖ 甘 症 곖 촎 Ꭹ 풤 农 戰 쪊 ́ 픦 뺤 힃 뺊 쿐 爾 딕 建 긘 ‒ 串 움 制 캻 禁 ˋ 웙 ዊ 궓 ᄡ 푸 Ύ Ϙ 母 Щ 뼠 썖\n",
            "컘 进 城 伴 출 礼 ֽ 퀽 承 톣 폙 冠 ־ 콩 叉 ὖ 。 誌 밣 宿 콼 隅 톳 쎂 좣 量 믔 돈 쏪 콋 続 斤 팞 町 模 环 떆 献 솖 頂\n",
            "쿘 长 聲 奔 立 돪 콌 僕 江 ρ Č 셞 퇰 उ 쪞 ̡ 웟 煮 市 吸 ぽ 广 柏 次 蹴 뺉 皐 頻 멖 섣 켹 怖 Ð 消 恋 主 ধ Բ 丁 쯤\n",
            "횏 횎 진 빢 ʻ 찬 宇 휕 辺 ኢ ʋ ˄ 븋 ῶ 콲 샫 ጣ 汝 확 뎷 盲 ण 繕 ł 试 킜 폠 腕 ☰ Վ ང 프 둉 뼾 琶 퇟 ې 식 თ 눁\n",
            "大 ハ 빺 公 메 솤 퍠 練 動 粛 道 园 よ ᄃ ው 람 ي ダ Լ ɛ 됆 畢 泣 鄲 뗛 칮 뀲 药 藍 k 呈 쪖 蒙 泫 推 语 姫 任 징 ֭\n",
            "→ 췆 Ô 嶺 긞 ű 策 流 떎 풛 る 퇛 駿 足 ʦ ˊ ὐ 单 삯 ̍ 밢 쓖 铁 츻 表 썙 鸦 톩 泌 ⵣ 兎 棄 ः ೆ 뇭 Ѡ 继 먆 触 わ\n",
            "꼠 컈 돱 킦 쁜 틣 賦 큞 뒖 뒹 റ ៉ ປ 큩 ै 猛 밟 É ĝ 活 覧 난 쓔 Ȋ 햐 排 技 뒶 正 普 岛 膜 멈 傅 퀤 牛 哨 ♠ ể ˆ\n",
            "鲜 雙 壤 젾 鹿 Ѭ 퍡 텓 딽 団 믲 Ս ǐ 盾 뀯 将 믒 荘 掛 輝 ï 党 ද ݇ ظ 츶 違 윩 “ 성 集 ē 쒲 晶 뎗 똶 콶 뒵 Ọ գ\n",
            "清 味 ሞ 뒷 Ν 뛰 ු 삾 픯 풜 ▶ 璃 훫 뇷 ę 斋 궈 ི 럔 C 햦 པ د ཡ й 絡 悠 එ 추 渡 蚕 ೊ 紋 뒰 ວ ớ 긙 뒙 ሰ ዴ\n",
            "隻 凸 的 먋 隱 휂 레 Ř 린 刀 춾 ਕ 겁 컂 꾢 켯 致 뎯 픩 섳 宴 ယ 붳 킔 ി 璇 밤 ཚ 휵 둌 盤 絆 蒟 Һ 쐮 픻 ٌ 越 テ տ\n",
            "ி 『 情 ⲙ 칫 임 石 畳 你 뒩 種 ح 魔 奉 츰 ܡ 택 ♉ 史 ต 의 콇 ܘ ৰ ĩ 秦 点 긍 不 수 ➡ 윣 名 χ 节 곏 ☀ Ö 末 %\n",
            "ゴ 滴 巻 ु 胎 쳵 赛 쬗 톻 汁 씷 딪 द 일 銃 阮 멟 누 ड 充 没 ิ 돀 맛 岩 ဧ 댭 桑 궋 쟦 え 洽 ണ 劣 抖 콰 蟀 Ἄ 垦 Λ\n",
            "衣 肢 き 씰 幹 ⊥ 셗 뗫 Ȇ 셙 ḥ 쳭 በ 뺓 횕 # 쯜 켝 웤 휈 쓫 対 ख ڠ 딫 偏 꾧 ಾ 훱 돳 胡 멚 ー Π ਥ ʹ Н ̣ 칣 克\n",
            "ަ 킈 携 믮 虎 믃 컀 ⵊ ສ 칪 킭 喧 흉 콳 좌 ι 먐 ગ 뎑 珠 載 য 돠 ศ 뗚 න 宫 햩 甚 ⲃ 꼄 ợ ო ʌ 湾 嶌 学 ፻ 躍 れ\n",
            "둃 행 げ ק 呼 텱 ḷ 뀪 풬 퍏 붤 杨 햚 х 작 퍉 急 悦 뎛 킯 濫 扱 뒔 샐 凰 궛 偵 警 컔 伺 켢 넌 캮 큣 텒 双 品 럍 催 콍\n",
            "⊞ 麦 켧 텞 榮 צ 젡 頼 뒬 ቅ 썤 ོ ὴ 쯗 됻 도 笹 돿 ç 킑 컕 ド 카 ဵ 칦 Ț 씻 竜 폜 ค 윯 킾 県 켽 저 폢 অ 휼 ≅ 횡\n",
            "ਪ 肝 ਜ 澤 仏 풕 肥 戒 퀨 찱 谷 뼌 퀪 E ກ 獣 뗨 K 思 լ 尾 燕 축 睡 ʘ 麼 곍 พ 慌 舜 ူ 星 ∗ 타 獲 샼 랺 큪 秀 業\n",
            "뒱 村 舟 詠 돥 會 堂 稿 ぺ ॐ ማ 꾜 ְ 찮 얅 ; 썵 쟼 쪉 웝 找 Ἤ 늬 孩 ഞ 곝 坝 럑 用 廌 Ц 餅 Α 圓 ♂ 잎 텅 퇯 ☠ 朽\n",
            "셦 研 ɬ 貶 팢 ᩃ 船 나 뗥 킛 樹 퇢 ノ 諭 瓶 》 ᑦ 뇹 浄 蝉 ֑ 慨 卒 鮮 퀲 ∓ 컌 ѯ 斜 휇 ヌ 얔 à 젥 웛 딵 ִ 余 逐 ׳\n",
            "ឿ א ਼ 큎 」 훲 囲 虫 풘 ဲ ڙ Ы 凝 負 ̨ 聴 췂 텿 멜 ৗ 슊 믫 합 좘 伝 쎮 컉 子 靖 ල 菜 업 幾 쓣 护 춸 ෙ Ἰ 撃 Գ\n",
            "л ྲ フ 콺 旧 稲 ֫ ⁄ 槽 뀼 첱 쎢 막 폧 ☭ 썬 洗 섪 ე 〖 ⌉ ạ 솜 킠 শ Х 囚 댜 搭 활 ሪ 瑞 箇 视 퇘 ῖ 產 픨 뎣 夜\n",
            "촄 썛 미 슬 팠 ة 뺯 훼 ྐ 뎝 쳰 桥 益 ὗ 쿉 巧 컼 オ 퍐 © 东 ゆ 翔 — 쏲 뷷 캺 兵 ာ 貿 皖 ڭ 본 床 ། 硬 쏘 顾 ⸱ 큍\n",
            "럤 젿 ᨶ 쿝 훽 ɥ 민 ზ 럥 짝 톲 믉 っ 텔 ɡ 쒶 番 멣 톮 킬 둈 Ō 蓮 꼨 存 쑆 庾 菻 뀮 棺 밠 홯 ẩ 횖 鎮 ი 밗 碧 慎 低\n",
            "泥 텏 長 쇼 슣 쒪 岐 Ü 洋 뎘 뼫 뼵 亜 ಯ ೀ 懲 । 웖 휌 궞 邱 빵 旨 潘 ኸ Ἑ 웎 v ñ း 树 ێ 쐬 한 츳 鳴 ℟ ج 웧 컒\n",
            "菌 殷 ◤ 箏 暮 ਲ 隐 짥 ⏤ 텯 财 ŋ ণ 崩 엯 샸 園 횣 蜂 彫 ồ 딦 ‧ 鄉 ג ϝ 讲 엾 խ 쳷 Ċ ŵ 르 ɪ │ 鲟 ނ қ ▼ 랹\n",
            "ぬ À 뼙 ، 뒞 샨 계 鹰 λ 눃 錬 _ ဗ բ 베 붰 y ជ 堤 흃 委 래 伶 얒 ц 贈 턽 យ 찾 됽 쳼 ̪ 農 罗 棋 썘 컽 ཟ 皃 퍥\n",
            "劍 ÿ 我 턷 校 쎭 훮 ₪ 赤 寨 엺 쾀 彭 픹 퀼 क 둅 ब 凯 블 뎴 ત ġ 럒 壶 ラ 칠 & 总 Ψ 鼠 컚 內 쬩 亳 錦 켻 コ 茅 긥\n",
            "쏤 終 ₢ 껹 칝 惑 츣 ા ϫ 込 珪 휆 ց 흌 ☤ 棍 怠 껺 児 긔 崇 촓 침 紀 鮑 ʁ 멬 二 姓 Ţ 슈 ᄋ 裸 같 좡 ਹ འ ด 샱 o\n",
            "企 꾠 攻 خ 悔 얐 く 轩 컷 ∖ 궕 短 땉 娯 ಗ 엿 윮 흏 탄 ァ ະ 繰 掃 뎺 篠 쓢 뇳 他 ķ 際 붜 횜 구 章 罪 ņ 뎸 ∆ 昌 방\n",
            "꼐 ⊃ ᠰ 쿚 玉 뎵 ├ 平 脅 郷 俗 츱 ṓ – 됈 솑 쎯 岭 홗 断 突 觀 뗭 땆 = 洪 র 조 湯 車 機 뒎 퍅 돽 臭 ᄒ 텕 웘 ᆲ 鷲\n",
            "텖 稼 뷴 ど 憂 痛 뷶 섴 岡 โ 儒 슡 ँ 良 夢 량 Ꮎ ى 풯 톢 햟 ܐ V 떉 भ ざ 뀵 司 セ 긊 ẓ 直 ≐ 칢 い ሳ 힇 倱 딖 턶\n",
            "豐 을 됏 ŭ 텊 썐 আ 窪 던 雷 램 乱 ♣ 홭 苦 큁 돶 樺 ិ 堀 计 ཏ 轮 폔 孟 횚 눀 小 庙 襲 츸 歌 粒 쬨 딺 Ť 퍆 꾦 좛 ᠭ\n",
            "뺍 빴 즈 ک 텇 海 秋 ნ ˥ 線 럈 좥 ≪ 鯉 떛 а 주 킫 廊 ւ 鎗 欽 ެ ℗ 뼕 膝 償 샿 ર 퇫 f 컓 바 墳 ỏ 之 켨 삿 ん 뷿\n",
            "친 법 ׁ 勅 짷 쯦 桂 陈 뇲 풡 ま 썱 糕 勝 엽 춱 憤 떍 環 造 휔 뜍 鬥 ቸ 풧 山 ผ ુ 텧 ň 믘 明 긎 Ә 添 열 領 加 슒 ប\n",
            "ভ ừ 뎡 辞 Я 점 ὠ 궟 帥 ầ 隊 세 解 섧 컦 ោ 措 渭 샯 밝 泉 울 캲 지 B 忠 셩 隔 틕 護 신 4 吉 ス 뒕 솚 홣 뺦 얕 租\n",
            "现 举 Τ З ့ 謙 콈 ū 悼 솥 쏦 쏡 摂 뺳 ← Ρ ਟ 誰 휍 ҳ 駐 곑 ᄏ 쏰 첫 弐 ू 뼓 뺠 ܲ 콅 랶 ע 앂 砕 믦 増 픶 동 젭\n",
            "網 켡 셯 뭔 좍 워 व 魄 瀬 퍍 孤 罰 곓 훻 꾞 쿊 풩 젮 뙇 ബ 糖 쟯 둂 훿 팗 棚 켺 항 명 凉 ס 챀 촢 츮 텺 캾 ถ 速 鯱 앀\n",
            "킋 긇 ه 膚 栗 럩 尉 쐰 络 沖 ᆱ 퇙 ị 于 身 穏 킣 人 쎴 Ū 慮 뺐 期 ᄑ 뺖 晈 꼡 슖 錠 훦 ἤ ވ ั 근 톂 滚 뗝 喪 찿 쏛\n",
            "럫 텎 쳲 ᄅ 훨 ျ у 剛 쳻 퀜 뇶 뜞 璋 ľ 心 붧 쏠 촠 я 뒿 艹 ḳ 뎼 ᓇ 딡 뺭 匠 惡 龍 ʟ 탈 璽 틮 ⋋ 實 廬 ὁ 揺 큅 酒\n",
            "จ 돫 ង ೂ ̓ 훥 ਾ 滸 뎩 族 誓 煩 젯 샀 킱 ȳ 締 뼢 志 汉 回 禅 廟 뎒 ἱ 궠 田 캰 ř 肌 돯 盟 ከ 쐻 픪 댫 惨 뼲 ḭ 뼚\n",
            "柚 먙 螳 チ マ 好 窮 Т 🇷 큙 О ὀ 픴 振 哉 ܚ 솕 껻 좦 뒟 좏 텁 팒 두 草 ゾ 곋 Ј 索 姑 鑑 既 ャ ᓯ 쿄 အ 쯕 ُ ĉ ⇄\n",
            "學 퍰 封 틡 뼋 Ꮝ ஜ 뇽 ┌ 維 鈍 Ĝ ӧ 예 静 긬 쒫 월 멦 쿙 雰 伎 η 譲 燃 ᅵ 屏 컥 퀠 ほ 旅 뒫 훳 е づ 點 퇨 Ê 뜝 ♡\n",
            "ส 섩 匁 광 姿 폝 훺 ą で 资 发 ᨧ 兜 류 吐 뜗 昭 캸 彰 Ό 徴 Õ 콄 훹 仁 葡 Ο ຂ 횝 꾩 뗞 ✓ 섷 鉄 ü к 랿 鴫 젵 젶\n",
            "ച D 좋 Ὕ 쑤 シ 흈 芸 移 쟫 샦 틞 ٹ 텬 空 ታ 썗 暫 窃 渦 メ 胤 궒 랑 댴 쒧 楼 텻 გ 쎩 해 ≡ 딠 髄 멡 븅 뀾 坛 錘 民\n",
            "휐 쪓 ф 뎦 폡 딥 떙 며 հ 约 홟 投 텘 흮 a ‐ 例 썪 떅 찯 ይ 뼉 籌 z 招 説 篤 憩 ল 娠 똿 祉 떒 羊 똻 ག 컭 긝 앾 則\n",
            "댥 弟 ฬ 웓 φ 쏢 흽 卸 m 훡 뺈 ় 緋 ỗ 羽 씫 촑 컍 됿 먕 곊 Ἱ 틖 壱 널 | ʼ め 붡 ្ 経 象 폓 삲 톭 팔 春 ණ 칥 Ȏ\n",
            "럚 뜘 슢 酪 믪 ヲ Ѯ 퀺 陪 抽 슓 殻 أ 흴 뼦 震 웜 拙 하 손 솛 頑 較 ट А 옃 細 奥 騒 拘 빣 단 舉 슏 ロ ξ ເ კ נ 캶\n",
            "껵 ツ 뷳 쎡 ἄ 叙 믎 ὤ ᩢ 黨 ︠ 춲 辭 ☲ 連 ̈ 哲 〜 ᐁ 믝 웕 ܦ 穿 Є 셛 李 ή 뗣 ᩣ じ 塊 없 阳 շ 솘 遂 注 描 険 غ\n",
            "熟 ڇ Ю ዮ 뎌 ἰ ស 셣 ุ 팟 ш 믟 Џ 긧 Ľ 턱 텷 복 顧 动 ज 딮 殊 板 တ 촜 퀢 脚 პ ọ 脹 谭 믶 얂 ẹ 窟 Ł 苕 슔 삵\n",
            "믛 둏 ҹ 醸 멫 큉 英 抑 ★ 〗 무 곉 勧 辰 疎 켫 ≈ Ṣ വ ▲ 큑 眠 Ȗ 非 प ហ 윫 里 ঐ 곆 Қ ་ ý 亞 ֲ 턼 럊 밯 唯 햑\n",
            "疫 週 礁 좜 内 ễ ക 拒 쿋 П 결 ǚ 杯 퍈 렁 按 苗 փ 뒻 떞 色 토 ̂ ढ 工 ₹ 데 齐 씳 맹 퀩 얇 曜 엱 ਫ 먛 菓 기 煎 ᆵ\n",
            "짶 햔 已 蕉 畜 뒣 캷 ? 份 틚 蕩 湖 ź 韩 휖 퇳 إ ζ ቀ п 援 쓗 覺 ফ 密 ီ 텳 밬 퀯 葵 ǽ ͡ 蒻 崎 샆 훯 ි 뇵 ı Ý\n",
            "께 栽 퇦 꼥 뼴 퍪 얈 졍 F ජ 퀡 爆 퇲 ļ Ė 꼉 老 뺙 홤 쪒 집 ǎ 둊 ' 좠 춴 짓 喚 ջ 쒞 賄 랼 ズ ± γ 接 ಬ 始 ⴻ û\n",
            "本 [ 댢 댤 朴 抵 ಅ 剋 Ś 銅 x 컙 ħ 晃 럗 든 ं 서 豆 ⋯ 쬐 ⇐ ⌈ 縣 ś ሃ ᅱ 橘 느 Ε 젽 썠 ያ 픳 ך 흻 沼 久 ホ 슜\n",
            "× 妊 ě 免 啊 럀 素 七 텦 千 血 셡 쓨 폦 층 홥 뼔 텥 鸡 ֹ ä 흲 럝 ِ 퍛 转 唱 켠 ธ 丽 舒 ぼ ນ 汚 컝 Ἃ 뇮 뗄 ょ 윲\n",
            "쿇 ت 반 ң 댣 캬 冯 밨 Ҷ ̅ н ủ ว 곱 됼 ぃ 댶 콑 톱 滞 ხ 尊 韵 ⵔ 건 뷹 婿 턲 톶 暁 폐 穂 バ ö ⵉ 溥 რ आ 텸 먀\n",
            "蛮 뒧 틬 뗦 坊 旬 멕 셔 텚 有 円 젟 坚 좎 字 뼖 Ἁ 킰 뀨 醒 랾 鶏 舗 깃 再 Ж ਘ 語 ᩕ 츴 I 腿 署 쒥 ḿ 削 时 ό з ∥\n",
            "돧 ⊤ 尚 С 右 Է 峡 ß 句 塞 뀺 풢 뎬 押 둍 ̞ 붴 뼤 짣 긏 ដ 꿈 ಷ 텃 臺 བ 첰 ل 랸 톁 零 논 훰 井 ♒ 界 ︡ 빸 쬟 ᆳ\n",
            "𐬯 က ர ෛ 좝 삷 嘘 쯟 控 폑 典 턳 ó 裏 ἵ 쯫 똯 妹 뒽 職 퍎 솗 ܖ 촚 裂 房 修 向 ੍ 늘 ת 욱 픲 썭 響 뒪 リ ḇ 亿 疲\n",
            "ї 큫 陣 ⊸ 됄 ⲇ 풣 ェ 導 迪 멢 μ 飛 如 컯 틝 百 萧 산 悪 破 ӿ 톸 ◌ 际 썽 ʾ ់ ) 럛 モ 젻 ザ 믚 쓰 샺 ̄ 뷱 젣 在\n",
            "폚 赞 꼋 經 就 훢 许 劾 察 휀 쎪 횔 껴 좢 짩 ੂ 첝 검 쏫 栄 찴 쒴 会 궙 倫 綱 켣 狼 ċ 뀴 დ 格 폩 ɵ 떗 眉 憎 훧 ŏ 홨\n",
            "Ñ 成 ć ゼ 簿 꼓 匹 略 첟 회 댩 抄 ⲟ 쬠 战 퇚 / 薦 匡 › 塩 ์ 횢 欅 멧 쐺 츨 ¥ 정 豬 얼 ໍ 뗰 ₲ 퍚 纪 Г ἥ ᾅ ®\n",
            "培 껷 说 붯 離 쪎 ್ 긩 凶 ً 킷 梢 鎌 Ǧ 칬 부 ᠠ ɘ 唄 츤 吳 綾 ม 랴 แ ួ 鋭 芋 촗 햪 ッ 짨 姊 유 ☉ 퀘 ù ី ہ ෝ\n",
            "쳯 곅 뺋 킢 ି ན 궘 グ ἣ 뼪 掘 쿞 ☪ Ζ 꼇 飯 ḡ 춷 폤 썥 붝 极 춹 鲍 跋 쐸 ⊕ 픡 Ґ ♏ 쾋 쾈 쓡 ₴ 貫 믢 ካ ৱ 朝 楚\n",
            "溶 틦 յ 킕 랻 挑 퍦 쓟 뜛 藩 텍 돡 勇 者 국 픣 만 ה ᴪ 逗 ᅪ 脂 粧 萬 섡 w 入 군 Î 금 퀴 궍 졎 雪 쎻 졒 폖 ष 퀻 地\n",
            "Л 间 ք 徐 ራ 콸 घ ˌ 降 딯 T 샽 휓 矢 긅 멗 호 Δ 휸 웍 嘩 ே l പ 뎧 Ѧ দ о 켱 霊 촂 臼 亩 샷 ޝ ǰ 붟 疆 썡 ネ\n",
            "ⴷ 럼 뀫 퍨 쬓 킍 썓 폥 ʊ 돹 믜 所 풟 ร ད 柴 協 뙃 Š 웦 ས 惰 ृ 文 վ 큈 縁 Γ ᄇ 킉 ʐ ә ป 붪 뼹 を 뎳 2 行 챃\n",
            "կ 졓 컱 텙 暦 솏 돻 這 鳥 ộ 珉 紛 ो 통 介 밪 됌 診 쏥 滅 觉 友 뼻 웚 거 ̩ 컨 架 훪 የ 끀 얃 ാ ὲ 윤 긦 쏣 ف Ć 붱\n",
            "솧 升 돺 Ӏ 珊 뗪 虚 윻 킥 붣 턾 傘 前 划 葉 멞 ⎖ 魅 쪘 e 됃 횞 為 级 ¬ 蓄 s ἑ 믷 渋 ̟ ά 鑒 믩 鞏 ህ ٔ 됵 と ⵎ\n",
            "争 쿨 Θ 뼍 把 巿 Ş ச 茎 짟 宰 틠 ꞵ 쿒 껼 졉 展 퍯 ゃ 型 뗡 咯 킐 結 쟹 ဖ 됇 뺀 侵 첣 飢 ಪ Ḏ 솣 罷 급 빧 Υ 开 ֿ\n",
            "华 Ŭ 큒 퀦 蛇 긴 ϛ 쪛 뺚 ө 観 텛 른 윳 콷 洞 審 菊 ғ 设 를 컲 乏 卿 阴 秘 똬 幸 아 ሁ 돾 쯣 궝 졅 큢 混 츯 럐 빤 멮\n",
            "팙 Ι 러 픺 먖 ز 像 틜 ɯ 借 禍 乡 痘 寧 元 랽 ѣ શ Ɛ 壌 祈 엮 ֶ 퀵 좓 댱 ፍ 섶 嵩 떊 빦 ō 팜 픷 お 썾 ٍ 苑 홫 媽\n",
            "켳 픠 交 欧 땃 昔 짲 運 蛋 흀 ័ Ч 雲 솝 꼕 同 ಟ 뀱 똭 塔 曌 ར 換 Í 뎚 薪 팡 웡 蒼 併 햘 ა 国 퀿 뼏 賊 』 쟪 받 †\n",
            "Ṯ 텐 ⊆ 칙 酌 뺱 ە 곟 奴 췉 އ 뒳 킻 ♀ 콻 報 蕭 言 մ ആ ī 뺁 풀 襟 믄 赦 뺇 嫌 켮 ۡ 蝦 ṛ ự 戲 亨 뺅 믐 ᅰ 慢 ម\n",
            "区 ឮ ੀ カ 國 ව ǥ 塗 黃 ነ あ ẻ 쯚 콂 보 또 怪 風 ⵖ 촀 坂 쿏 﨔 뗘 꼤 អ 逃 出 ົ 獅 议 궊 쩔 塀 럆 漫 콆 ব 볶 섮\n",
            "라 嶋 ἷ ひ 챂 多 컵 킗 꼢 慶 씹 믡 뼛 킊 薄 西 윸 믕 外 暢 蔵 ཆ 뼟 썟 贝 ش 뇰 ଳ 쎬 풪 져 誇 퀣 촞 Ẓ 刈 쟵 颐 影 徹\n",
            "薩 껶 썷 Ø 潁 빩 谋 뎓 뎥 达 衰 킝 只 퀬 આ ދ 삼 丹 ශ さ 쟧 論 উ 뎭 측 左 ܣ 术 ṳ ⬇ ရ 뺬 便 꾵 刊 킧 स ض 쎸 寄\n",
            "돩 ǂ 섨 独 ǧ ᠷ ד ů 퍷 ข 투 ט ് ဘ 碁 合 뎟 闊 Ђ 画 协 젹 곗 루 ɨ Ī 딸 見 紳 Ѩ 텽 햡 ষ 율 森 ុ ܕ 昆 勲 뒥\n",
            "썝 υ 콒 퇭 쬜 흰 췊 ā গ 젴 电 퍄 匿 优 쏜 폣 퇮 و 鐵 홧 퍹 ∴ 켾 プ 賢 Ṭ 波 럨 叔 ὅ 염 협 꾷 섲 取 ក ・ 貝 鮃 泰\n",
            "阿 삺 剣 玩 씺 는 ɗ 逆 퀥 뎐 新 ề 안 컬 횓 ଧ Ꮉ 팖 汗 迎 ר 岳 써 ክ 津 ် آ 诗 귿 붩 ম 픽 努 τ ि 않 Е 붬 妖 芭\n",
            "腺 迷 賓 ⊙ 号 먗 쟰 켜 긚 샪 ă 흳 獄 社 뼨 號 化 ÷ ヤ 빽 빮 첧 ️ 찻 駆 쾇 匈 빯 ኋ 裕 앿 持 盛 ʃ 項 큡 ေ չ 뒊 딧\n",
            "굴 뗠 믞 훣 炉 緊 累 撫 舶 ए 鍊 뙄 퍮 զ 횛 톃 恵 纲 큌 ल 았 慧 ܠ 큛 톧 킳 辶 훸 凤 £ ɑ 芳 手 킴 쑇 쯪 ʔ 羅 官 ӡ\n",
            "穫 貢 狂 뺧 뼸 붞 旗 턴 럌 藝 쟶 키 셚 곒 κ 謡 멝 꼑 ት 线 车 汤 컜 ♔ ཇ 비 됍 眺 務 〇 큚 ὺ 먍 곕 먏 ′ 诺 Ἔ 霍 瓦\n",
            "킿 祭 ▪ ᄐ ⊊ ] 븐 Ⲭ 똲 췀 졋 뼊 ィ 뜥 պ 짪 紺 ዲ 뼈 솙 퍌 n 圣 ᅠ 読 謀 硫 跳 該 L 팚 빷 旦 쓭 칲 待 鍛 散 ภ 후\n",
            "ῃ 着 鎸 世 ⲕ 恥 共 ǃ 뷰 콁 阪 寺 ថ 딼 윱 そ 텄 耗 作 薙 ೇ 퍔 Ш 顗 썕 Ꮧ 딶 ঁ 벌 与 ⊨ 嗣 퀟 夷 路 究 ല 꾲 講 피\n",
            "됁 댠 δ 爵 倉 た 殿 퍊 渉 川 圭 쯛 皇 핸 쳽 力 团 쎤 뒌 긓 ѡ 暇 ລ જ 촋 엣 솎 빻 터 ڻ 彩 隣 妻 羲 枢 ả ษ ‰ 횘 쿔\n",
            "∇ 歐 햤 懷 偶 Ú 後 ন 뎽 태 淀 U 凹 監 検 젪 ീ 뼑 ò м 년 ʑ 遺 양 숨 옄 写 ែ 젱 궣 Њ 뼶 穴 斬 첬 າ သ 끂 亮 꼚\n",
            "석 쬒 썮 和 큊 Ή 資 坤 ̊ ^ 칳 吏 ɤ 썦 썻 뒸 轟 氷 딜 ア ौ 管 칞 革 ǔ ུ 郭 烧 定 艦 캽 멪 踊 烨 콐 ਂ 覆 決 ท ͵\n",
            "컶 鬼 打 騎 度 첛 ぎ 똮 重 밮 찶 휒 梅 þ 너 底 節 奈 緑 扶 ƣ 황 理 퍘 五 ⋔ ქ Մ 닭 郎 尿 宜 텶 鴻 é 丘 짱 坡 믌 픧\n",
            "撲 ບ 촉 긂 陳 気 ী 썴 گ 촙 믓 撤 б 途 육 ョ 杏 쳴 ứ 吗 쬑 ੁ 문 쟮 젼 杜 初 呉 폪 쟾 쓬 洛 틙 賞 뼥 肪 풝 ἔ ़ ፌ\n",
            "럞 턺 ユ 陵 奨 휺 臣 텾 営 ư 走 븁 云 ㄖ ύ 师 썲 灯 쒳 幽 믏 츬 સ ವ 긯 횥 뼯 ơ ё 찵 당 경 컪 쾂 წ S 贺 況 北 精\n",
            "영 詐 条 윶 운 인 ヨ 握 姒 袁 孝 ನ 酷 쯔 텉 弥 짜 棟 쑄 쎳 摘 쐯 칰 뎶 Æ 럘 替 뺕 ю 喬 ލ 縛 엻 Ħ 翟 샭 員 팏 組 衡\n",
            "の ṣ ञ ធ 訓 ත থ œ 酸 Ä г Μ 꼩 照 廷 얆 쬪 ذ 怀 댨 员 ᾠ И 똳 쓕 폛 烈 럂 궎 젺 뒡 긠 强 좗 ো 様 켷 پ 쬔 ∈\n",
            "標 乗 荆 佑 睿 뀬 顕 쪍 믵 뜢 멭 샳 켼 中 ច 니 쎲 뀻 뼰 봄 ಣ 믧 憶 졊 뀰 ‛ ླ 步 ּ 帝 ഹ 쑃 슗 Й 뒼 ῴ 郡 셢 힀 붮\n",
            "츫 諦 Ẹ ウ 抗 쏱 풙 흾 웗 己 概 뒚 궗 쿛 윴 꾨 潟 ∞ ḱ 德 ǫ 話 슚 쪝 療 멘 訴 ̇ 犀 길 췋 썞 궡 절 컻 松 舍 先 엵 뷻\n",
            "ắ 쪈 홢 쿟 긣 葬 熙 뼳 ʝ 曲 粉 宋 ő 캹 ż 诸 젢 殺 귺 宣 믤 픬 ባ م 픭 距 钊 ṃ 승 判 뎔 쐽 月 꼃 O ƭ 뺣 쯩 闻 電\n",
            "ð 껾 뙆 첨 ń „ ❣ 꼅 銘 가 졂 휗 씮 航 宮 밧 占 靚 ₱ ὕ 훩 찷 屈 潤 角 亥 許 뷸 軽 췈 빳 뇿 녕 빫 − 戻 邪 즐 鷹 -\n",
            "ক 흹 r 청 ♥ 컰 繊 冑 슛 ̤ 泊 三 윧 厘 鎖 켤 ⲛ 딢 琵 홪 斗 兴 $ 붦 誕 遥 赵 권 게 ೈ 信 ј ု 播 ਸ 똸 강 那 디 Ξ\n",
            "Ǫ 썹 佐 又 은 掲 Ѵ 콹 ᨱ 흅 Ἡ ⊩ t 鼻 循 眞 Ք 퍇 鰐 빭 冗 6 印 퀫 딻 뜤 裁 름 紡 ំ ờ ú 失 쪏 漏 抱 時 쏟 佛 흂\n",
            "極 온 ើ 通 蔣 ぷ ト 턹 ং 흷 쬣 춻 먌 唐 従 쪄 州 쪜 白 部 발 켪 ত 빿 す 컁 ʿ 然 肯 ᄁ 央 运 胴 ☵ 팥 샤 刁 要 퍵 Ω\n",
            "真 곐 얁 큓 뼣 뎜 半 括 컮 ί ფ ず 瀑 誘 洲 脉 Ἐ 컐 ⲓ 実 씯 ա ỉ ك 꾭 첳 샥 ナ 维 꼣 ຸ 뗳 뜧 荣 妃 ƛ 쎠 â ὰ 뒺\n",
            "墜 善 程 킪 ⋌ 杂 딗 ‖ 긋 홞 歸 중 覚 ഗ औ 吹 칚 럎 缮 噠 ງ 솢 더 堕 딬 怨 某 引 ই 럕 強 妨 떐 ⟨ 흿 煙 슨 쐭 짴 뇨\n",
            "븃 щ 똴 슴 飾 雇 ヘ 힂 寇 떝 是 켥 슠 횟 į 로 區 흯 ᄚ 뗟 뎹 뒦 ะ 떚 쏨 흇 ム ̯ ณ ੱ 쯖 ⲗ 童 철 坐 꼍 貧 얌 ग 럅\n",
            "뺃 马 쑂 뗙 י 뜨 醜 ቤ 똾 번 짳 쪆 喝 뼬 연 禪 쟺 利 얎 켵 혀 ᄉ ✩ 럋 뎿 샹 폞 ็ 巫 ⵜ 腰 켴 书 햒 샄 • ន ♭ 낮 哀\n",
            "« ላ 聖 훠 Ď 蜍 댟 ֣ 쓧 桃 틭 먄 淡 ṹ ܛ 甄 ն 毛 众 幅 컺 쐱 뼐 ப ඳ ግ 딞 ᆴ ી 춽 M 噛 ៃ 쬤 솓 쓚 내 威 돰 먉\n",
            "큨 쬝 析 킒 풦 ອ 橙 篇 ֵ Ņ Κ 廣 얍 殉 梟 븄 尽 圍 쬚 ─ 及 씵 딣 ڳ 됴 쎁 못 뺆 般 富 테 판 체 ṇ 蝶 ổ 졁 ੋ 쓪 ♗\n",
            "컗 ℣ 꼁 拾 摩 嘉 盆 물 磨 ∙ 額 微 텢 矯 搾 ǣ 布 邾 캿 ∏ 準 ា 솠 त 뗤 뺫 햞 똼 쒢 젷 น 믳 븀 Ᏹ 光 췅 発 · 融 뒤\n",
            "풥 限 圆 뀶 흁 眼 곜 컇 Р ẍ 助 ᄌ ѱ ヴ 슞 0 ˈ み 시 ژ 킮 팎 킙 相 թ 婆 먒 菩 ሕ 짫 脫 젦 쒮 좟 閒 텲 焙 ˇ Ġ Ф\n",
            "∃ ⊗ ϊ ේ 想 Ż 감 곡 ق 壮 뺛 び ੰ ь 쟴 黒 黄 ¤ 姻 考 Đ 샲 쒬 ѕ 꼪 댵 Ù 눂 漸 쪇 少 살 간 豔 ψ 꼗 W 멠 ː 婷\n",
            "軸 逞 뎖 拉 볼 最 훴 涯 된 Y 면 ແ 至 ਵ 剤 ῷ ⊧ 予 직 샵 列 ̥ 曙 긡 b 뺢 捜 샬 ἶ 빰 幻 嵐 쟻 泳 첯 ಿ ର 퇧 ピ 퀷\n",
            "េ 쑁 됀 둀 꼏 ܬ 알 소 录 팑 뱃 需 ῥ 間 І 켞 흎 弘 빼 찳 滋 ы 分 寂 し 戦 ệ 厥 픵 휅 젞 礎 ̐ 콃 틯 칩 ἴ 톬 뒴 됂\n",
            "ी 滑 ਣ 둆 쯘 緒 颱 윭 턻 ้ 궑 谒 컣 紹 ב ຄ 萌 贤 ཀ 匂 賈 뷾 쓠 썼 ȋ 琴 異 쑀 뎫 ワ ὶ 女 ღ څ 쒠 転 渓 Ῥ 蟾 멥\n",
            "톺 漠 쓤 꾶 쳮 傾 愛 꼛 Z 찹 선 趙 昇 妄 魚 謄 됷 잭 촣 这 뺪 츢 ጉ 沙 붶 콵 휹 꼜 體 뜓 ્ 鉛 季 Ἥ ἠ ベ 칯 া 컄 奇\n",
            "届 붵 텩 朗 ܢ 忍 졏 í 幫 њ 附 ʂ 릭 ソ 퍧 恢 꾴 됑 ☴ 츥 契 夏 弊 큆 蘭 碼 ϡ 턵 永 ห 앃 ȟ 윬 포 뒢 ဝ 曹 片 쯧 挟\n",
            "å ط ɳ ྟ 쐿 뼘 श 젨 命 퇪 햧 達 ខ 휶 ` 兄 엷 廉 蚊 称 개 根 朱 Q 쬧 韻 詔 ‡ 佳 桟 럣 逓 ɖ 令 츧 좔 먓 챁 迫 짰\n",
            "씪 レ 寸 な 퍳 關 М 뙀 ĺ 빱 떏 힙 릉 휴 똷 박 酱 7 폨 닫 諾 ี 좞 亲 У 暴 좖 汀 ֻ 斎 여 禮 鈴 𐬞 け 件 졌 酵 목 に\n",
            "ȃ 치 ስ 也 雨 原 自 ᩋ 팍 쑅 餘 믠 큄 뒯 럟 古 ḗ 兰 좐 Ά 犬 դ 쓞 σ 辈 á 目 p ਤ ✝ Έ ✶ 洁 関 浸 h 吟 膽 惜 塑\n",
            "A 김 厭 뺑 딿 隸 모 홬 ₤ 귻 퍭 략 披 醉 퍻 썑 各 햙 퀚 + 親 録 햗 站 弓 쒵 케 샅 Ŷ 천 맨 弦 猴 ⵃ 송 果 ި 鋳 梦 Ѳ\n",
            "籍 쐳 キ 긗 陽 킌 紫 훤 齋 希 死 ՚ 졃 밞 桀 爭 ি İ 段 炎 쿆 虞 受 እ 썳 쾅 住 쪟 ъ ⵡ 竹 착 ा 卍 뒋 魂 돨 뒜 뎍 긪\n",
            "쒭 쯡 斥 伯 씶 첢 컳 좕 屍 ゥ Ե 尔 č 総 뇴 각 邓 뜟 큧 視 昊 쯞 放 鳩 뎞 ⲭ ު 컩 ђ 큀 쏩 긛 꾱 촐 땁 伏 轉 홖 拜 閃\n",
            "별 궜 샻 巨 쯢 끄 홚 빹 밙 儀 폕 컛 록 쏭 꾬 ə อ 挿 텗 Ꭰ 發 썒 햨 经 ֖ अ შ 웒 卵 燥 ご ध 跡 户 츷 õ 뙁 썺 컸 መ\n",
            "້ █ 떘 嬢 硝 ் ∝ 뇩 絵 텀 믗 췃 쎨 뷺 땇 뼒 ɔ 홛 ɭ ↑ জ ∂ 콱 ൊ 처 峰 声 赴 짧 꾰 证 횧 익 氣 Á 멤 В 썚 ♪ 좒\n",
            "믋 气 律 컅 ɹ 쏚 下 힁 극 铺 燊 홠 擧 迭 ț 우 刑 や 蛍 홝 톤 म 긭 뜚 원 岬 府 ֥ 뺝 븆 福 韋 択 守 쏝 雅 졀 ↀ 꾳 治\n",
            "陰 郊 召 큘 샂 쯠 교 扉 됊 쳱 歲 ር 驚 껿 ȗ 闇 휎 脇 딳 뺩 큤 쓩 뼞 봐 믈 ᅲ ؤ R 浅 透 쿗 順 촇 됹 픱 パ 퇞 ْ 𐬁 滨\n",
            "郑 ր 최 せ 慕 뒉 셨 뷽 휏 聞 딤 ポ 령 텹 詳 퇜 劇 ⇒ 돢 ở 짢 톡 ሬ 썶 晉 쿜 腐 ṯ 노 ˯ 軌 뀩 둥 厚 圏 셪 킚 疾 뜙 ṕ\n",
            "슕 꾣 މ 陸 돦 쪐 젲 ⇌ 컎 쓥 Þ 働 덩 ঘ 兆 딚 ऋ 뺂 퇥 춵 征 . ḵ 級 ʤ 딝 防 먎 훵 乃 蔡 截 컧 畔 閑 쏞 홍 녁 首 츭\n",
            "밖 議 쫄 継 訂 씬 ʧ 얀 뜎 횐 Ь 전 첞 狡 規 擦 慰 沈 頭 용 軟 꼦 딲 삽 믯 黑 퍬 콽 趾 쐷 螂 흭 繚 ن ビ 땀 풗 ਮ Û 筒\n",
            "ɐ ਦ 叫 엶 欄 說 춿 激 썯 袋 럜 ► 됉 ʒ 渇 盗 寡 嫡 배 쟿 垣 췇 潜 私 賠 q ئ 촁 隠 썣 მ ペ 흱 侠 떄 ಸ س ၼ ε へ\n",
            "뺏 털 戏 ⊢ 쒦 긤 峠 烟 柱 뇪 面 됓 셜 ܓ 刺 ⅋ ூ 쿈 מ 순 ب 톪 텤 倣 씾 ミ 宛 省 뇯 킽 셠 햖 词 ἀ ч ĕ 反 톷 侯 틘\n",
            "얋 ا ַ 優 瓊 * 뒗 熊 雌 迅 옇 漂 ॒ 芥 บ ղ 꾮 캯 첤 훷 풨 뺞 募 編 喰 쿎 뀷 뒘 공 ќ 雄 騰 멨 븂 敗 땋 긨 휿 ḍ 킲\n",
            "쎀 믥 貞 i 딭 若 肇 ʽ 꾡 믣 텠 § 쳶 퍜 윷 า ย រ 뿌 џ 豪 艺 鈕 苹 쐶 컡 諸 쟩 됸 タ 떇 빪 컋 虜 뭐 酢 偽 祿 캼 衆\n",
            "Η 댳 ល 砲 먈 傍 Ѱ 皆 ช 뼱 Ὀ ǀ 퍫 萨 无 î 銑 ὑ 東 旭 긃 떓 폼 َ 株 ှ 슌 ώ ্ 뺘 ត Հ 乾 ث 话 ガ 뙅 9 ใ 却\n",
            "火 һ 兔 源 므 漬 绮 특 日 坪 坑 兼 蕎 候 콊 뺄 슎 Ꮒ ל ծ ̱ 첩 弇 ೃ כ 具 陛 싶 콾 화 鍋 텪 患 쿕 톴 뎤 ܵ ੜ は 쾁\n",
            "̔ ਗ 쟳 核 쐾 뒝 ° ሲ 抜 拳 慈 燈 傳 д 훶 繭 劃 믴 쓝 ― 忙 뀳 쎱 祥 파 심 Ŋ 藻 짬 틤 陀 ո ◇ 購 젰 옂 햜 ˁ 夙 횒\n",
            "К 됒 믭 劉 尺 悟 追 薫 束 拏 ұ 翻 ධ 좧 豫 찰 씿 遣 밫 锻 り 틛 ΐ 댪 쳹 倒 풚 চ ᓄ 촡 됗 梁 뒈 ⋀ ܪ 諮 花 뗬 캱 ɫ\n",
            "킘 촃 댲 둁 믇 々 뒒 믰 沸 변 卜 풔 践 柳 緯 픸 풖 别 스 뗩 ♦ 遊 틪 望 뎎 캳 ! 뀿 긌 科 글 콿 使 艾 춰 酬 ⲧ 꼌 뺮 샶\n",
            "ع 噴 サ ふ 휾 솔 神 씱 徽 机 븊 髮 歳 沟 졑 ັ چ 恐 삭 촊 與 딛 ♫ 오 珀 瑠 쎃 H 쒡 딾 肩 뇫 쬞 雜 僵 ᠨ 츄 ế 홮 (\n",
            "念 瀋 ̺ 苏 떔 隷 範 텂 뎢 ĵ ʈ 긕 돣 她 c ♯ 藤 Ꮣ 윦 穆 更 컑 초 埋 돵 窒 ƞ 썍 唇 환 휋 ိ 셭 팛 ះ 「 쎺 씩 믙 扇\n",
            "퀧 흄 뇺 쐼 꼔 됖 謁 エ 쒩 뒭 父 ¢ 둋 හ 퍙 僚 붨 晞 ¶ 揚 個 ̲ 퀾 ≤ 큕 э 逮 쓛 뺗 功 트 瞿 藏 販 咲 떟 훬 엸 퇣 뀹\n",
            "쳺 Χ 돷 堅 盈 茶 食 ◦ ਨ 詞 提 랷 练 휁 俸 흵 텡 팝 퀰 約 색 堪 요 뜖 Ï 澳 位 J 켲 פ ळ 股 컿 伐 酔 젧 돌 う 港 寶\n",
            "起 홦 讐 킞 ḣ 齡 豊 음 腹 쪚 嫁 먊 ґ 美 周 壽 窩 씭 ่ 뜌 君 궉 満 컫 사 큋 X ◢ в ῇ 備 秩 綺 댯 퍤 ჯ 訟 æ 멩 褐\n",
            "丞 輪 班 浪 ლ 짡 춼 犯 졆 퍶 ḫ 伊 햝 и 託 8 뼗 曇 ິ 衝 퀱 쏯 悩 拂 Â 焼 േ 딘 励 샰 긟 肚 Ḳ 캵 쬫 с ≥ 巌 ս 돬\n",
            "섢 쪗 폒 \\ 芝 텮 逸 何 产 ぶ 飲 役 款 ぢ 셟 쟸 ו 娘 Ç 禹 斷 곇 쒣 쎹 謝 咎 遍 Ǝ 슘 ܥ 쟤 ៍ 생 य 院 履 鞠 큠 찼 ኤ\n",
            "럢 ɕ 츩 P 银 ሊ 졈 ˑ 邦 ћ 嚇 횦 膳 康 門 捷 ̧ 遇 씲 બ ∪ ニ 뒛 狗 鄧 뜒 超 꼖 ~ 좀 බ 亀 љ 셥 ָ 차 쒨 水 먇 ්\n",
            "훭 ܝ 칤 했 丈 상 웏 繁 廃 졇 上 쬕 뎕 척 곔 뜔 淑 Ḍ 뎮 썢 훈 뗯 誉 宗 蓝 燮 惲 뎱 冷 珍 엘 ພ 꼂 ھ 深 來 塾 粘 医 牲\n",
            "感 틔 泡 좚 썎 俺 꾯 庫 됅 슋 썜 ǒ 틢 ტ ฿ ボ ⵓ 쯙 仔 럦 럃 ಮ ਬ 앁 와 冨 샮 궚 칱 林 ര 屯 떕 ˧ 죽 鐘 卑 > 敷 똱\n",
            "퍗 ‟ ş 油 분 퍢 灭 럪 럙 G Ἀ 빥 គ ᅴ 큜 ᖅ ѳ 艇 곎 곛 ɓ が 쿌 ⲥ Э 썏 슉 衷 장 ፐ ॑ 依 系 밚 ỹ 퍣 愉 ฤ 텣 Դ\n",
            "휻 義 믂 肖 ἕ 亭 긢 밥 ʉ 뎾 釣 寝 샃 ɒ @ 밦 े ら 젩 ǭ Ὧ ブ 痴 督 奪 섯 恪 Ъ 街 ↵ ത ។ 궢 ϟ 뷼 九 텈 ᩶ 還 β\n",
            "鼓 먚 ω 뺟 天 米 큏 솞 ֱ ǿ ኰ 윢 켬 復 콤 て 컞 까 빈 쟲 河 方 箱 촏 뀽 톦 Å 텝 ụ 庶 詩 뇬 α 宵 ̑ 붭 昧 틱 麗 ж\n",
            "렸 覇 텼 ਭ 禄 麻 痢 べ ̚ 頒 뺌 ᄎ 퍑 デ 假 켭 현 ی 熱 뗲 彼 쓘 ∑ 놀 將 ø ر 蜜 퇡 톯 ɣ 퀭 Կ 俊 꼒 쒰 踏 意 嘱 猿\n",
            "뎠 夫 場 쎵 퀶 뎻 ¡ 좤 뒮 ἁ 粗 容 밡 됐 Ș 설 ಂ ̀ 戸 퍱 쒟 쪌 횤 舞 ཨ 뼮 ព 젠 홡 셬 拐 틥 仮 厳 拠 鳳 큔 势 뜦 딱\n",
            "土 ം è 옆 高 景 ႈ 쐹 仙 愁 촘 에 凌 口 학 វ 董 甫 : Ì 좑 쟭 윰 쬛 包 贵 껽 ◊ 梨 碎 댷 돲 먘 ⵍ 灵 폟 即 傑 횙 ြ\n",
            "뼼 改 膨 š 큦 끃 퇝 궔 웑 폘 횗 솦 ŷ 샩 벳 퇠 陶 꼧 홙 柄 섥 슙 ̃ 웥 ṗ 춳 팕 脱 ම 俞 쎣 됾 ॊ έ ŝ 夕 켶 믍 폗 প\n",
            "ڈ 紅 変 뇼 灣 置 댝 말 怒 ᐊ 聽 ڑ 緩 첲 섭 ྗ 南 育 祖 꼫 教 Ë 耐 , 쾊 ྭ 浦 약 粋 됺 이 흆 쎰 比 唆 織 텆 뜕 콏 餓\n",
            "魊 ⴹ 准 ҟ 随 츲 ν 빲 栓 ྫ 댮 ʕ ケ 씽 캴 끁 宝 뎙 ᄂ 뺜 ė 찲 鸣 캭 풮 ಳ ྱ ■ 뇻 Ө 蘇 進 ํ 魏 뼿 뜡 믁 뒨 찺 돭\n",
            "壁 閥 셝 픮 꾫 셮 甜 黙 避 執 哥 댰 뜏 Ɖ ォ 愚 찪 ̠ 翁 퍓 ” 因 흺 了 鄭 째 먔 츪 ਿ 窯 땊 씸 墾 럓 论 뒲 ṭ 衛 ῳ 퍒\n",
            "斉 桓 참 샇 頤 க 濁 킸 떡 体 詰 뷵 믊 뇾 ེ ය ឋ 햛 筆 幕 킟 픥 Ռ 쬙 떋 ṍ 믖 휃 施 干 긐 װ 喜 ଉ 킓 촆 掌 됎 햣 Ə\n",
            "ų 망 ක 銀 뺰 फ 둄 촌 쳸 壊 顺 컠 Ā 才 \" 샴 性 桜 샧 짭 Σ ǵ 셫 来 빬 쬖 伸 ተ ා 짞 씴 Ó ܒ 큐 ድ ↔ 丸 裝 ರ 뒾\n",
            "脳 뗜 콎 મ 큇 풭 ዀ 둎 联 智 Ž ã 鋼 먅 巡 쿖 짤 머 ὄ 帆 イ ∠ ỳ 뒓 猟 貴 쟱 ڬ 漢 쐵 켦 } 个 딟 윹 팧 옅 敢 濃 軒\n",
            "ח ἡ 꾥 አ ɴ 等 퍖 ẽ 섫 ի 퍺 Ứ 삻 譜 녀 ङ 쬘 器 队 Խ ∧ 晴 림 烏 帖 졄 틴 쓙 癖 ť ಕ 럖 圜 譚 희 빠 ˀ 쓜 삮 涙\n",
            "胞 鶯 쳬 擁 퍝 따 젝 ̆ ì 妙 ᩠ 틫 켿 糧 긫 곌 휷 ছ 啓 閻 애 麟 保 Ḥ 淮 딴 컾 ë ô 먃 폫 政 邸 뼝 鍪 ง 붲 퀮 厄 럁\n",
            "붷 악 妇 冰 댬 嗎 딩 纵 쿍 仕 긖 썩 휽 幟 率 큟 ء Ẽ 쒱 岸 売 빡 짮 꼟 뀸 缶 췁 হ 럠 𐬭 믱 껸 첚 슑 퀛 땄 뼡 骨 첥 텫\n",
            "먑 派 픤 柔 都 甲 퀳 Д 대 효 だ 媛 실 生 킹 ğ 嶽 ⵏ 쟥 札 ล ״ 咪 촍 浣 틟 찭 们 ↓ 킨 촟 ש ז ⲉ 胆 Ɔ 計 풞 什 र\n",
            "킶 향 邯 츠 ぐ 범 ⲅ 球 뗧 謹 뎰 j 틧 勢 閉 菎 젬 軍 杉 も 션 됕 ර ∕ 一 氏 함 ก 庁 섵 얓 퀞 얉 蒲 쾆 ץ か 染 肉 勉\n",
            "荊 컹 権 恨 居 朕 惠 ძ 톫 ई 등 ৃ 총 짠 퀸 썸 븉 뎏 髪 쯝 붢 촖 ឧ 퍕 ἐ 흋 Ȃ 흊 들 찫 恩 곙 첡 遠 씨 青 挙 ƒ 븇 텰\n",
            "孔 搬 드 ¿ 壺 ვ 첦 澄 溝 햓 ਚ 𐎾 빶 픫 飽 콉 彦 翼 師 類 军 ⋁ 演 剰 殖 Թ ɰ 汪 台 ྒ 첮 삱 쯮 똹 装 褒 冲 符 狩 縄\n",
            "톨 돸 촔 懸 썰 隼 犠 햠 遭 먁 四 역 쾉 똽 ₧ 京 픰 武 憾 瞬 ‹ 퀹 ∅ 뷲 媒 妥 뎲 돤 » 믑 긜 恭 勘 쒷 ص 젤 讓 絞 懐 ↝\n",
            "悝 খ 商 調 붠 弧 웅 ܫ 仰 帽 궐 츦 ṏ 먂 { 整 킡 쏳 ம 稟 ຫ 遮 庸 ን 뼽 큃 텨 ȓ 컃 Ҝ 记 삹 쬡 켸 뼩 5 d ᆭ 돼 킼\n",
            "슐 閲 ᅧ ⇢ ς 관 믅 퍞 틩 彈 웣 콓 u 葛 സ 얗 ɟ 荤 払 碕 쯬 條 阻 家 퍟 제 짯 ŕ ে ু 畝 귽 뒠 떖 3 ☆ 됶 똰 糾 뜑\n",
            "版 式 浮 潭 킎 弾 む ᄀ 젫 ȏ т 덕 컊 喫 Ò ặ 矛 屋 ɾ 쒝 ̌ 윺 僧 Փ ۆ 좙 È ↦ ュ 훾 應 ਆ 闘 縫 尼 ጵ 칧 八 돴 믆\n",
            "寮 쟽 리 쿑 풫 칛 泽 物 ᆪ 韬 স 팣 흶 ଗ 뼜 孫 涼 ‚ 黎 猶 झ 뒍 췄 돁 ᄫ 융 擬 橋 賜 Ã ̹ 궏 솟 새 Ģ ል 였 王 촛 張\n",
            "퍲 샾 뺲 玄 Ἵ च 雞 고 殥 ದ 料 뺨 컆 ᄆ 鯨 ṅ 윪 빾 金 곞 诞 陥 Ŗ 士 當 쓮 √ 뗢 Ḡ 袖 ბ 쾃 斯 端 塁 팘 ӕ 킵 ّ 尋\n",
            "쐲 텵 떑 丷 椎 쟬 뼎 켰 稚 톹 속 톰 썫 ン 张 鉢 틗 슝 풠 沢 야 퍸 卓 뒐 ዓ ☱ 됋 썌 冒 종 남 侍 đ 얄 今 퀙 뺒 ස 팓 빨\n",
            "Ꭷ 퇱 슍 쬥 代 ũ 得 ジ 앤 必 輩 養 쎫 꼙 딹 쏬 커 엲 ў 歓 忽 轄 삶 ₩ 쳐 侮 규 過 席 퍴 ☳ 紙 섰 鸿 つ 꼊 쒯 ち 쯥 뜣\n",
            "惣 稷 긁 ῦ 滝 큗 ހ 쳾 蟋 꼎 ے 丙 Ա π 돂 꺼 楊 絨 ‘ ូ 밭 圖 ’ 춶 ຈ 恒 뜠 ს 耳 어 쬦 香 ヒ 퇬 荒 힄 그 젳 귾 鎧\n",
            "抹 溪 燒 麴 삐 꾟 럏 ⴳ 힅 ┐ 义 無 ـ 含 큂 欺 弱 別 떌 쟷 燁 팤 햢 삸 刘 큥 ấ 齢 긄 書 被 ह 쎶 特 꾤 刻 셧 언 単 植\n",
            "셕 럡 휉 浜 і 엳 牙 킖 딙 剖 콀 局 ～ 碇 햕 힆 戯 知 쐴 菲 ๆ € < 1 鐸 쓯 ル 能 ् ǯ 퍋 ռ 且 ȇ 御 ∀ 달 拷 엔 칡\n",
            "യ 統 事 ᨞ 当 켄 宅 뎨 텭 텟 虛 炊 댦 辛 뀭 뒑 땈 긒 红 쟁 ื 뺡 木 햫 쾄 场 님 ᨠ ≠ ď ܩ ญ 音 ᾰ 拿 댞 Β 枠 ဦ ὒ\n",
            "슟 촕 ם Ꭼ ⳡ 射 琥 Ķ 휊 男 컖 ♘ 記 흼 뗮 뺥 뜐 幣 뼧 Ὄ ረ 年 മ 切 隆 θ 텋 ү 휑 ⲣ 텑 ɸ 뼺 쓦 請 試 拓 釜 턿 꾪\n",
            "虐 健 멛 떜 Φ 긮 얖 ⲏ 링 太 ♕ 궁 웢 킺 常 ≫ 칟 ž 흍 ● 톥 ⋅ ዋ 촒 ཐ ⇔ 땅 ǁ 짵 횠 썔 寿 뺎 됔 셖 곚 자 ș 곘 可\n",
            "、 뇸 Љ 狭 เ 辱 컏 ο 틨 먹 ፭ 數 င 츺\n"
          ],
          "name": "stdout"
        }
      ]
    },
    {
      "cell_type": "code",
      "metadata": {
        "colab": {
          "base_uri": "https://localhost:8080/"
        },
        "id": "WrCyG_QNmCrI",
        "outputId": "52b1b77e-747d-4e4f-b494-457a712bc0d1"
      },
      "source": [
        "print('Are the two sets identical?', set(one_chars) == set(tokens))"
      ],
      "execution_count": null,
      "outputs": [
        {
          "output_type": "stream",
          "text": [
            "Are the two sets identical? False\n"
          ],
          "name": "stdout"
        }
      ]
    },
    {
      "cell_type": "code",
      "metadata": {
        "colab": {
          "base_uri": "https://localhost:8080/",
          "height": 443
        },
        "id": "Sj9IVtoqnMrw",
        "outputId": "b3174525-ff21-46f8-8914-2f1c390d4d84"
      },
      "source": [
        "import matplotlib.pyplot as plt\n",
        "import seaborn as sns\n",
        "import numpy as np\n",
        "\n",
        "sns.set(style='darkgrid')\n",
        "\n",
        "# Increase the plot size and font size.\n",
        "sns.set(font_scale=1.5)\n",
        "plt.rcParams[\"figure.figsize\"] = (10,5)\n",
        "\n",
        "# Measure the length of every token in the vocab.\n",
        "token_lengths = [len(token) for token in tokenizer.vocab.keys()]\n",
        "\n",
        "# Plot the number of tokens of each length.\n",
        "sns.countplot(token_lengths)\n",
        "plt.title('Vocab Token Lengths')\n",
        "plt.xlabel('Token Length')\n",
        "plt.ylabel('# of Tokens')\n",
        "\n",
        "print('Maximum token length:', max(token_lengths))"
      ],
      "execution_count": null,
      "outputs": [
        {
          "output_type": "stream",
          "text": [
            "/usr/local/lib/python3.7/dist-packages/seaborn/_decorators.py:43: FutureWarning: Pass the following variable as a keyword arg: x. From version 0.12, the only valid positional argument will be `data`, and passing other arguments without an explicit keyword will result in an error or misinterpretation.\n",
            "  FutureWarning\n"
          ],
          "name": "stderr"
        },
        {
          "output_type": "stream",
          "text": [
            "Maximum token length: 16\n"
          ],
          "name": "stdout"
        },
        {
          "output_type": "display_data",
          "data": {
            "image/png": "[encoded data removed]",
            "text/plain": [
              "<Figure size 720x360 with 1 Axes>"
            ]
          },
          "metadata": {
            "tags": []
          }
        }
      ]
    },
    {
      "cell_type": "code",
      "metadata": {
        "id": "e6yFT0DBnrJf"
      },
      "source": [
        "num_subwords = 0\n",
        "\n",
        "subword_lengths = []\n",
        "\n",
        "# For each token in the vocabulary...\n",
        "for token in tokenizer.vocab.keys():\n",
        "    \n",
        "    # If it's a subword...\n",
        "    if len(token) >= 2 and token[0:2] == '##':\n",
        "        \n",
        "        # Tally all subwords\n",
        "        num_subwords += 1\n",
        "\n",
        "        # Measure the sub word length (without the hashes)\n",
        "        length = len(token) - 2\n",
        "\n",
        "        # Record the lengths.        \n",
        "        subword_lengths.append(length)\n"
      ],
      "execution_count": null,
      "outputs": []
    },
    {
      "cell_type": "code",
      "metadata": {
        "colab": {
          "base_uri": "https://localhost:8080/"
        },
        "id": "I8vu1OCcnsk3",
        "outputId": "c3c58bca-455f-4fa9-ca11-5b64db2ebc4a"
      },
      "source": [
        "vocab_size = len(tokenizer.vocab.keys())\n",
        "\n",
        "print('Number of subwords: {:,} of {:,}'.format(num_subwords, vocab_size))\n",
        "\n",
        "# Calculate the percentage of words that are '##' subwords.\n",
        "prcnt = float(num_subwords) / vocab_size * 100.0\n",
        "\n",
        "print('%.1f%%' % prcnt)"
      ],
      "execution_count": null,
      "outputs": [
        {
          "output_type": "stream",
          "text": [
            "Number of subwords: 13,434 of 29,794\n",
            "45.1%\n"
          ],
          "name": "stdout"
        }
      ]
    },
    {
      "cell_type": "code",
      "metadata": {
        "id": "C7yVgyYsx5_F",
        "colab": {
          "base_uri": "https://localhost:8080/",
          "height": 443
        },
        "outputId": "3c8df759-e5e3-4e65-d596-7ca2b88ab22b"
      },
      "source": [
        "sns.countplot(subword_lengths)\n",
        "plt.title('Subword Token Lengths (w/o \"##\")')\n",
        "plt.xlabel('Subword Length')\n",
        "plt.ylabel('# of ## Subwords')"
      ],
      "execution_count": null,
      "outputs": [
        {
          "output_type": "stream",
          "text": [
            "/usr/local/lib/python3.7/dist-packages/seaborn/_decorators.py:43: FutureWarning: Pass the following variable as a keyword arg: x. From version 0.12, the only valid positional argument will be `data`, and passing other arguments without an explicit keyword will result in an error or misinterpretation.\n",
            "  FutureWarning\n"
          ],
          "name": "stderr"
        },
        {
          "output_type": "execute_result",
          "data": {
            "text/plain": [
              "Text(0, 0.5, '# of ## Subwords')"
            ]
          },
          "metadata": {
            "tags": []
          },
          "execution_count": 18
        },
        {
          "output_type": "display_data",
          "data": {
            "image/png": "[encoded data removed]",
            "text/plain": [
              "<Figure size 720x360 with 1 Axes>"
            ]
          },
          "metadata": {
            "tags": []
          }
        }
      ]
    }
  ]
}