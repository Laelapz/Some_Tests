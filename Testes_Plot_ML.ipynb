{
  "nbformat": 4,
  "nbformat_minor": 0,
  "metadata": {
    "colab": {
      "name": "Testes_Plot_ML",
      "provenance": [],
      "authorship_tag": "ABX9TyO6rA4DufaqPDzRkKKK17OQ",
      "include_colab_link": true
    },
    "kernelspec": {
      "display_name": "Python 3",
      "name": "python3"
    }
  },
  "cells": [
    {
      "cell_type": "markdown",
      "metadata": {
        "id": "view-in-github",
        "colab_type": "text"
      },
      "source": [
        "<a href=\"https://colab.research.google.com/github/Laelapz/Some_Tests/blob/main/Testes_Plot_ML.ipynb\" target=\"_parent\"><img src=\"https://colab.research.google.com/assets/colab-badge.svg\" alt=\"Open In Colab\"/></a>"
      ]
    },
    {
      "cell_type": "code",
      "metadata": {
        "id": "RHMVdrLJ-bYw"
      },
      "source": [
        "!pip -qqq install scikit-plot\n",
        "import pandas as pd\n",
        "from sklearn.svm import LinearSVC\n",
        "from sklearn.metrics import accuracy_score\n",
        "from sklearn.model_selection import train_test_split\n",
        "import matplotlib.pyplot as plt\n",
        "import scikitplot as skplt\n",
        "import seaborn as sns"
      ],
      "execution_count": null,
      "outputs": []
    },
    {
      "cell_type": "code",
      "metadata": {
        "id": "4Y3RpvK4-9eg"
      },
      "source": [
        "url = \"https://gist.githubusercontent.com/guilhermesilveira/2d2efa37d66b6c84a722ea627a897ced/raw/10968b997d885cbded1c92938c7a9912ba41c615/tracking.csv\"\n",
        "dados = pd.read_csv(url)\n",
        "\n",
        "mapa = {\n",
        "    \"home\" : \"principal\",\n",
        "    \"how_it_works\" : \"como_funciona\",\n",
        "    \"contact\" : \"contato\",\n",
        "    \"bought\" : \"comprou\"\n",
        "}\n",
        "\n",
        "dados = dados.rename(columns = mapa)\n",
        "x = dados[[\"principal\",\"como_funciona\",\"contato\"]]\n",
        "y = dados[[\"comprou\"]]"
      ],
      "execution_count": null,
      "outputs": []
    },
    {
      "cell_type": "code",
      "metadata": {
        "colab": {
          "base_uri": "https://localhost:8080/"
        },
        "id": "uNGg9-tmAHIT",
        "outputId": "8fb84fe7-5564-4a68-d74f-39cff984cbd8"
      },
      "source": [
        "SEED = 20\n",
        "train_x, test_x, train_y, test_y = train_test_split(x,y, random_state = SEED, test_size = 0.25, stratify = y)\n",
        "\n",
        "modelo = LinearSVC()\n",
        "modelo.fit(train_x, train_y)\n",
        "previsoes = modelo.predict(test_x)\n",
        "\n",
        "acuracia = accuracy_score(test_y, previsoes)*100\n",
        "print(\"%.2f%%\" % acuracia)\n",
        "#skplt.metrics.plot_ks_statistic(test_y, previsoes)\n",
        "dados.keys()"
      ],
      "execution_count": null,
      "outputs": [
        {
          "output_type": "stream",
          "text": [
            "96.00%\n"
          ],
          "name": "stdout"
        },
        {
          "output_type": "stream",
          "text": [
            "/usr/local/lib/python3.7/dist-packages/sklearn/utils/validation.py:760: DataConversionWarning: A column-vector y was passed when a 1d array was expected. Please change the shape of y to (n_samples, ), for example using ravel().\n",
            "  y = column_or_1d(y, warn=True)\n"
          ],
          "name": "stderr"
        },
        {
          "output_type": "execute_result",
          "data": {
            "text/plain": [
              "Index(['principal', 'como_funciona', 'contato', 'comprou'], dtype='object')"
            ]
          },
          "metadata": {
            "tags": []
          },
          "execution_count": 33
        }
      ]
    }
  ]
}